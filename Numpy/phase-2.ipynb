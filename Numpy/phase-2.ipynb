{
 "cells": [
  {
   "cell_type": "markdown",
   "id": "17c23a09",
   "metadata": {},
   "source": [
    "##Numpy Array Operation\n"
   ]
  },
  {
   "cell_type": "code",
   "execution_count": 6,
   "id": "01cc8b97",
   "metadata": {},
   "outputs": [
    {
     "name": "stdout",
     "output_type": "stream",
     "text": [
      "Basic Slicing [2 3 4 5 6 7]\n",
      "with step [2 4 6 8]\n",
      "Negative indexing 8\n"
     ]
    }
   ],
   "source": [
    "import numpy as np\n",
    "arr=np.array([1,2,3,4,5,6,7,8,9,10])\n",
    "print(\"Basic Slicing\",arr[1:7])\n",
    "print(\"with step\",arr[1:8:2])\n",
    "print(\"Negative indexing\",arr[-3])"
   ]
  },
  {
   "cell_type": "code",
   "execution_count": 12,
   "id": "fb4dd6bc",
   "metadata": {},
   "outputs": [
    {
     "name": "stdout",
     "output_type": "stream",
     "text": [
      "Specific element 6\n",
      "Entire row [4 5 6]\n",
      "Entire row [2 5 8]\n",
      "Entire column [3 6 9]\n"
     ]
    }
   ],
   "source": [
    "import numpy as np\n",
    "arr_2d=np.array([[1,2,3],\n",
    "                 [4,5,6],\n",
    "                 [7,8,9]])\n",
    "print(\"Specific element\",arr_2d[1,2])\n",
    "print(\"Entire row\",arr_2d[1])\n",
    "print(\"Entire row\",arr_2d[:,1])\n",
    "print(\"Entire column\",arr_2d[:,2])\n"
   ]
  },
  {
   "cell_type": "markdown",
   "id": "7ac34b44",
   "metadata": {},
   "source": [
    "##Sorting\n"
   ]
  },
  {
   "cell_type": "code",
   "execution_count": 18,
   "id": "8ed6060b",
   "metadata": {},
   "outputs": [
    {
     "name": "stdout",
     "output_type": "stream",
     "text": [
      "sorted array [1 1 2 3 4 5 6 9]\n",
      "Sorted 2D array [[1 1]\n",
      " [2 2]\n",
      " [3 3]]\n",
      "Sorted 2D array [[1 3]\n",
      " [1 2]\n",
      " [2 3]]\n"
     ]
    }
   ],
   "source": [
    "import numpy as np\n",
    "unsorted=np.array([3,1,4,1,5,9,2,6])\n",
    "print(\"sorted array\",np.sort(unsorted))\n",
    "arr_2d_unsorted=np.array([[3,1],\n",
    "                [1,2],\n",
    "                [2,3]])\n",
    "print(\"Sorted 2D array\",np.sort(arr_2d_unsorted,axis=0))\n",
    "print(\"Sorted 2D array\",np.sort(arr_2d_unsorted,axis=1))\n",
    "\n"
   ]
  },
  {
   "cell_type": "code",
   "execution_count": 20,
   "id": "2e3e97b6",
   "metadata": {},
   "outputs": [
    {
     "name": "stdout",
     "output_type": "stream",
     "text": [
      "Even number: [ 2  4  6  8 10]\n",
      "Odd number: [1 3 5 7 9]\n"
     ]
    }
   ],
   "source": [
    "#Filter\n",
    "numbers=np.array([1,2,3,4,5,6,7,8,9,10])\n",
    "even_number=numbers[numbers%2==0]\n",
    "print (\"Even number:\",even_number)\n",
    "odd_number=numbers[numbers%2==1]\n",
    "print (\"Odd number:\",odd_number)"
   ]
  },
  {
   "cell_type": "code",
   "execution_count": 24,
   "id": "ce847ff3",
   "metadata": {},
   "outputs": [
    {
     "name": "stdout",
     "output_type": "stream",
     "text": [
      "Number greather than 5 [ 6  7  8  9 10]\n"
     ]
    }
   ],
   "source": [
    "#Filter with Mask\n",
    "mask=numbers>5\n",
    "print(\"Number greather than 5\",numbers[mask])"
   ]
  },
  {
   "cell_type": "code",
   "execution_count": 44,
   "id": "e54fc6e1",
   "metadata": {},
   "outputs": [
    {
     "name": "stdout",
     "output_type": "stream",
     "text": [
      "[1 3 5]\n",
      "Np where [ 6  7  8  9 10]\n",
      "[ 1  2  3  4  5 12 14 16 18 20]\n",
      "['false' 'false' 'false' 'false' 'false' 'true' 'true' 'true' 'true'\n",
      " 'true']\n"
     ]
    }
   ],
   "source": [
    "#Fancy indexing vs np.where()\n",
    "indices=[0,2,4]\n",
    "print(numbers[indices])\n",
    "\n",
    "where_result=np.where(numbers>5)\n",
    "print(\"Np where\",numbers[where_result])\n",
    "\n",
    "condition_array=np.where(numbers>5,numbers*2,numbers)\n",
    "print(condition_array)\n",
    "\n",
    "condition_array=np.where(numbers>5,\"true\",\"false\")\n",
    "print(condition_array)\n",
    "\n"
   ]
  },
  {
   "cell_type": "code",
   "execution_count": null,
   "id": "0debd726",
   "metadata": {},
   "outputs": [
    {
     "name": "stdout",
     "output_type": "stream",
     "text": [
      "[1 2 3 4 5 6]\n",
      "Compatibility shapes True\n",
      "[[1 2]\n",
      " [3 4]]\n",
      "[[5 6]]\n",
      "With new column: [[1 2 7]\n",
      " [3 4 8]]\n",
      "With new row: [[7 1 2]\n",
      " [8 3 4]]\n"
     ]
    }
   ],
   "source": [
    "#Adding and removing data\n",
    "\n",
    "arr1=np.array([1,2,3])\n",
    "arr2=np.array([4,5,6])\n",
    "combined=np.concatenate((arr1,arr2))\n",
    "print(combined)\n",
    "\n",
    "##Array Compatibilty\n",
    "a=np.array([1,2,3])\n",
    "b=np.array([4,5,6])\n",
    "c=np.array([7,8,9])\n",
    "print(\"Compatibility shapes\",a.shape==b.shape)\n",
    "\n",
    "\n",
    "original=np.array([[1,2],[3,4]])\n",
    "new_row=np.array([[5,6]])\n",
    "\n",
    "withnew_row=np.vstack((original,new_row))\n",
    "print(original)\n",
    "print(new_row)\n",
    "\n",
    "new_col=np.array([[7],[8]])\n",
    "with_new_col=np.hstack((original,new_col))\n",
    "print(\"With new column:\",with_new_col)\n",
    "\n",
    "new_row=np.array([[7],[8]])\n",
    "with_new_row=np.hstack((new_row,original))\n",
    "print(\"With new row:\",with_new_row)\n",
    "\n",
    "\n",
    "\n",
    "\n"
   ]
  },
  {
   "cell_type": "code",
   "execution_count": null,
   "id": "30c57e93",
   "metadata": {},
   "outputs": [],
   "source": []
  }
 ],
 "metadata": {
  "kernelspec": {
   "display_name": ".venv",
   "language": "python",
   "name": "python3"
  },
  "language_info": {
   "codemirror_mode": {
    "name": "ipython",
    "version": 3
   },
   "file_extension": ".py",
   "mimetype": "text/x-python",
   "name": "python",
   "nbconvert_exporter": "python",
   "pygments_lexer": "ipython3",
   "version": "3.9.6"
  }
 },
 "nbformat": 4,
 "nbformat_minor": 5
}
