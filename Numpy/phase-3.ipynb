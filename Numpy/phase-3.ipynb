{
 "cells": [
  {
   "cell_type": "code",
   "execution_count": 52,
   "id": "64906582",
   "metadata": {},
   "outputs": [
    {
     "name": "stdout",
     "output_type": "stream",
     "text": [
      "====Zomato sales analysis===\n",
      "\n",
      " Sample data for first three resturant [[      1  150000  180000  220000  100000]\n",
      " [      2  120000  140000  160000 1900000]\n",
      " [      3  200000  230000  260000  300000]]\n"
     ]
    }
   ],
   "source": [
    "###Advanced operation with Business examples\n",
    "\n",
    "#Data structure:[resturant_id,2021,2022,2023,2024]\n",
    "import numpy as np\n",
    "import matplotlib.pyplot as plt\n",
    "sales_data=np.array([\n",
    "    [1,150000,180000,220000,100000],#Paradise Biryani\n",
    "    [2,120000,140000,160000,1900000],#Beijin=g Bites\n",
    "    [3,200000,230000,260000,300000],#Pizza Hub\n",
    "    [4,180000,210000,2400000,2700000],#Burger Point\n",
    "    [5,160000,185000,205000,230000]#Chai Point\n",
    "])\n",
    "print(\"====Zomato sales analysis===\")\n",
    "print(\"\\n Sample data for first three resturant\",sales_data[:3])\n",
    "\n",
    "\n"
   ]
  },
  {
   "cell_type": "code",
   "execution_count": null,
   "id": "c22b09fa",
   "metadata": {},
   "outputs": [
    {
     "name": "stdout",
     "output_type": "stream",
     "text": [
      "[     15  810000  945000 3245000 5230000]\n",
      "[ 810000  945000 3245000 5230000]\n",
      "10230000\n"
     ]
    }
   ],
   "source": [
    "#total sales per year\n",
    "print(np.sum(sales_data,axis=0))\n",
    "yearly_total=np.sum(sales_data[:, 1:],axis=0)\n",
    "print(yearly_total)\n",
    "yearly_total=np.sum(sales_data[:, 1:])\n",
    "print(yearly_total)"
   ]
  },
  {
   "cell_type": "code",
   "execution_count": 67,
   "id": "a80f2010",
   "metadata": {},
   "outputs": [
    {
     "name": "stdout",
     "output_type": "stream",
     "text": [
      "[100000 120000 200000 180000 160000]\n",
      "[120000 140000 160000 100000]\n"
     ]
    }
   ],
   "source": [
    "#Minimun sales per restaurant\n",
    "min_sales=np.min(sales_data[:,1:],axis=1)\n",
    "print(min_sales)\n",
    "\n",
    "min_sales=np.min(sales_data[:,1:],axis=0)\n",
    "print(min_sales)"
   ]
  },
  {
   "cell_type": "code",
   "execution_count": 68,
   "id": "2d449c63",
   "metadata": {},
   "outputs": [
    {
     "name": "stdout",
     "output_type": "stream",
     "text": [
      "[ 220000 1900000  300000 2700000  230000]\n",
      "[ 200000  230000 2400000 2700000]\n"
     ]
    }
   ],
   "source": [
    "#Maximum sales per year\n",
    "max_sales=np.max(sales_data[:,1:],axis=1)\n",
    "print(max_sales)\n",
    "\n",
    "max_sales=np.max(sales_data[:,1:],axis=0)\n",
    "print(max_sales)"
   ]
  },
  {
   "cell_type": "code",
   "execution_count": 69,
   "id": "00f47841",
   "metadata": {},
   "outputs": [
    {
     "name": "stdout",
     "output_type": "stream",
     "text": [
      "[ 162500.  580000.  247500. 1372500.  195000.]\n",
      "[ 162000.  189000.  649000. 1046000.]\n"
     ]
    }
   ],
   "source": [
    "\n",
    "#Average sales per year\n",
    "avg_sales=np.mean(sales_data[:,1:],axis=1)\n",
    "print(avg_sales)\n",
    "avg_sales=np.mean(sales_data[:,1:],axis=0)\n",
    "print(avg_sales)"
   ]
  },
  {
   "cell_type": "code",
   "execution_count": 65,
   "id": "26191885",
   "metadata": {},
   "outputs": [
    {
     "name": "stdout",
     "output_type": "stream",
     "text": [
      "[[ 150000  330000  550000  650000]\n",
      " [ 120000  260000  420000 2320000]\n",
      " [ 200000  430000  690000  990000]\n",
      " [ 180000  390000 2790000 5490000]\n",
      " [ 160000  345000  550000  780000]]\n"
     ]
    }
   ],
   "source": [
    "cumsum=np.cumsum(sales_data[:,1:],axis=1)\n",
    "print(cumsum)"
   ]
  },
  {
   "cell_type": "code",
   "execution_count": null,
   "id": "1b5c8f45",
   "metadata": {},
   "outputs": [],
   "source": []
  }
 ],
 "metadata": {
  "kernelspec": {
   "display_name": ".venv",
   "language": "python",
   "name": "python3"
  },
  "language_info": {
   "codemirror_mode": {
    "name": "ipython",
    "version": 3
   },
   "file_extension": ".py",
   "mimetype": "text/x-python",
   "name": "python",
   "nbconvert_exporter": "python",
   "pygments_lexer": "ipython3",
   "version": "3.9.6"
  }
 },
 "nbformat": 4,
 "nbformat_minor": 5
}
