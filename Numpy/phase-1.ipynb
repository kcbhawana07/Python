{
 "cells": [
  {
   "cell_type": "markdown",
   "id": "9d369c7b",
   "metadata": {},
   "source": [
    "#Numpy array and bascics\n",
    "\n",
    "learn about numpy\n"
   ]
  },
  {
   "cell_type": "code",
   "execution_count": 33,
   "id": "7b12e05f",
   "metadata": {},
   "outputs": [
    {
     "name": "stdout",
     "output_type": "stream",
     "text": [
      "1D array [1 2 3 4 5 6]\n",
      "2D array [[1 2 3]\n",
      " [6 7 8]]\n",
      "Python list multification [1, 2, 3, 1, 2, 3]\n",
      "Python array multification [2 4 6]\n",
      "\n",
      " List Operation time: 0.035117149353027344\n",
      "\n",
      " Numpy Operation time: 0.0021331310272216797\n"
     ]
    }
   ],
   "source": [
    "import numpy as np\n",
    "##creating array from list\n",
    "arr_1d=np.array([1,2,3,4,5,6])\n",
    "print(\"1D array\",arr_1d)\n",
    "arr_2d=np.array([[1,2,3],[6,7,8]])\n",
    "print(\"2D array\",arr_2d)\n",
    "\n",
    "\n",
    "##list vs numpy array\n",
    "py_list=[1,2,3]\n",
    "print(\"Python list multification\",py_list*2)\n",
    "\n",
    "\n",
    "#array multification\n",
    "np_array=np.array([1,2,3])\n",
    "print(\"Python array multification\",np_array*2)\n",
    "\n",
    "#element wise multification\n",
    "import time\n",
    "start =time.time()#second time\n",
    "py_list=[i*2 for i in range(1000000)]\n",
    "print(\"\\n List Operation time:\",time.time() -start)\n",
    "\n",
    "start=time.time()\n",
    "np_array=np.arange(1000000)*2\n",
    "print(\"\\n Numpy Operation time:\",time.time()-start)"
   ]
  },
  {
   "cell_type": "code",
   "execution_count": 36,
   "id": "509311d6",
   "metadata": {},
   "outputs": [
    {
     "name": "stdout",
     "output_type": "stream",
     "text": [
      "zeros array: [[0. 0. 0. 0.]\n",
      " [0. 0. 0. 0.]\n",
      " [0. 0. 0. 0.]]\n",
      "ones array: [[1. 1.]\n",
      " [1. 1.]\n",
      " [1. 1.]\n",
      " [1. 1.]]\n",
      "Full array: [[7 7]\n",
      " [7 7]]\n",
      "array list: [[14 14]\n",
      " [14 14]]\n",
      "random array: [[0.8103202  0.98717616 0.84694291]\n",
      " [0.57622447 0.99525145 0.4020985 ]]\n",
      "sequence array: [ 0  3  6  9 12]\n"
     ]
    }
   ],
   "source": [
    "import numpy as np\n",
    "\n",
    "zeros =np.zeros((3,4))\n",
    "print(\"zeros array:\",zeros)\n",
    "\n",
    "ones =np.ones((4,2))\n",
    "print(\"ones array:\",ones)\n",
    "\n",
    "full=np.full((2,2),7)\n",
    "print(\"Full array:\",full)\n",
    "\n",
    "arrayfull=np.array(full)\n",
    "print(\"array list:\" ,full*2)\n",
    "\n",
    "#random method\n",
    "random=np.random.random((2,3))#random value 0-1\n",
    "print(\"random array:\",random)\n",
    "\n",
    "sequence=np.arange(0,15,3)\n",
    "print(\"sequence array:\",sequence)"
   ]
  },
  {
   "cell_type": "markdown",
   "id": "b4ce296d",
   "metadata": {},
   "source": []
  }
 ],
 "metadata": {
  "kernelspec": {
   "display_name": ".venv",
   "language": "python",
   "name": "python3"
  },
  "language_info": {
   "codemirror_mode": {
    "name": "ipython",
    "version": 3
   },
   "file_extension": ".py",
   "mimetype": "text/x-python",
   "name": "python",
   "nbconvert_exporter": "python",
   "pygments_lexer": "ipython3",
   "version": "3.9.6"
  }
 },
 "nbformat": 4,
 "nbformat_minor": 5
}
