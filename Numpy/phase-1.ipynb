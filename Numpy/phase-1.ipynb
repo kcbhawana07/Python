{
 "cells": [
  {
   "cell_type": "markdown",
   "id": "9d369c7b",
   "metadata": {},
   "source": [
    "#Numpy array and bascics\n",
    "\n",
    "learn about numpy\n"
   ]
  },
  {
   "cell_type": "code",
   "execution_count": 15,
   "id": "7b12e05f",
   "metadata": {},
   "outputs": [
    {
     "name": "stdout",
     "output_type": "stream",
     "text": [
      "1D array [1 2 3 4 5 6]\n",
      "2D array [[1 2 3]\n",
      " [6 7 8]]\n",
      "Python list multification [1, 2, 3, 1, 2, 3]\n",
      "Python array multification [2 4 6]\n"
     ]
    }
   ],
   "source": [
    "import numpy as np\n",
    "##creating array from list\n",
    "arr_1d=np.array([1,2,3,4,5,6])\n",
    "print(\"1D array\",arr_1d)\n",
    "arr_2d=np.array([[1,2,3],[6,7,8]])\n",
    "print(\"2D array\",arr_2d)\n",
    "\n",
    "\n",
    "##list vs numpy array\n",
    "py_list=[1,2,3]\n",
    "print(\"Python list multification\",py_list*2)\n",
    "\n",
    "\n",
    "#array multification\n",
    "np_array=np.array([1,2,3])\n",
    "print(\"Python array multification\",np_array*2)"
   ]
  },
  {
   "cell_type": "markdown",
   "id": "b4ce296d",
   "metadata": {},
   "source": []
  }
 ],
 "metadata": {
  "kernelspec": {
   "display_name": ".venv",
   "language": "python",
   "name": "python3"
  },
  "language_info": {
   "codemirror_mode": {
    "name": "ipython",
    "version": 3
   },
   "file_extension": ".py",
   "mimetype": "text/x-python",
   "name": "python",
   "nbconvert_exporter": "python",
   "pygments_lexer": "ipython3",
   "version": "3.9.6"
  }
 },
 "nbformat": 4,
 "nbformat_minor": 5
}
