{
 "cells": [
  {
   "cell_type": "code",
   "execution_count": 21,
   "id": "cc3d8589",
   "metadata": {},
   "outputs": [
    {
     "name": "stdout",
     "output_type": "stream",
     "text": [
      "{\"employee name\": \"James\", \"email\": \"kcbhawana78@gmail.com\", \"job_profile\": [{\"title1\": \"Project Manager\", \"title2\": \"Developer\"}]}\n"
     ]
    }
   ],
   "source": [
    "import json\n",
    "data={\n",
    "    \"employee name\":\"James\",\n",
    "    \"email\":\"kcbhawana78@gmail.com\",\n",
    "    \"job_profile\":[{\n",
    "        \"title1\":\"Project Manager\",\n",
    "        \"title2\":\"Developer\"\n",
    "    }]\n",
    "}\n",
    "data_str = json.dumps(data)\n",
    "print(data_str)"
   ]
  },
  {
   "cell_type": "code",
   "execution_count": 24,
   "id": "b89f83c4",
   "metadata": {},
   "outputs": [
    {
     "data": {
      "text/plain": [
       "str"
      ]
     },
     "execution_count": 24,
     "metadata": {},
     "output_type": "execute_result"
    }
   ],
   "source": [
    "type(data_str)"
   ]
  },
  {
   "cell_type": "code",
   "execution_count": 14,
   "id": "62080190",
   "metadata": {},
   "outputs": [],
   "source": [
    "import pandas as pd\n"
   ]
  },
  {
   "cell_type": "code",
   "execution_count": 25,
   "id": "10e1c7e6",
   "metadata": {},
   "outputs": [
    {
     "name": "stderr",
     "output_type": "stream",
     "text": [
      "/var/folders/yt/21sgl_x942n_q585dtdvrs_40000gn/T/ipykernel_36585/1846306207.py:1: FutureWarning: Passing literal json to 'read_json' is deprecated and will be removed in a future version. To read from a literal string, wrap it in a 'StringIO' object.\n",
      "  pd.read_json(data_str)\n"
     ]
    },
    {
     "data": {
      "text/html": [
       "<div>\n",
       "<style scoped>\n",
       "    .dataframe tbody tr th:only-of-type {\n",
       "        vertical-align: middle;\n",
       "    }\n",
       "\n",
       "    .dataframe tbody tr th {\n",
       "        vertical-align: top;\n",
       "    }\n",
       "\n",
       "    .dataframe thead th {\n",
       "        text-align: right;\n",
       "    }\n",
       "</style>\n",
       "<table border=\"1\" class=\"dataframe\">\n",
       "  <thead>\n",
       "    <tr style=\"text-align: right;\">\n",
       "      <th></th>\n",
       "      <th>employee name</th>\n",
       "      <th>email</th>\n",
       "      <th>job_profile</th>\n",
       "    </tr>\n",
       "  </thead>\n",
       "  <tbody>\n",
       "    <tr>\n",
       "      <th>0</th>\n",
       "      <td>James</td>\n",
       "      <td>kcbhawana78@gmail.com</td>\n",
       "      <td>{'title1': 'Project Manager', 'title2': 'Devel...</td>\n",
       "    </tr>\n",
       "  </tbody>\n",
       "</table>\n",
       "</div>"
      ],
      "text/plain": [
       "  employee name                  email  \\\n",
       "0         James  kcbhawana78@gmail.com   \n",
       "\n",
       "                                         job_profile  \n",
       "0  {'title1': 'Project Manager', 'title2': 'Devel...  "
      ]
     },
     "execution_count": 25,
     "metadata": {},
     "output_type": "execute_result"
    }
   ],
   "source": [
    "pd.read_json(data_str)"
   ]
  },
  {
   "cell_type": "code",
   "execution_count": 28,
   "id": "f5c8f68b",
   "metadata": {},
   "outputs": [
    {
     "name": "stderr",
     "output_type": "stream",
     "text": [
      "/var/folders/yt/21sgl_x942n_q585dtdvrs_40000gn/T/ipykernel_36585/1325754925.py:1: FutureWarning: Passing literal json to 'read_json' is deprecated and will be removed in a future version. To read from a literal string, wrap it in a 'StringIO' object.\n",
      "  pd.read_json(data_str,orient='record')\n"
     ]
    },
    {
     "data": {
      "text/html": [
       "<div>\n",
       "<style scoped>\n",
       "    .dataframe tbody tr th:only-of-type {\n",
       "        vertical-align: middle;\n",
       "    }\n",
       "\n",
       "    .dataframe tbody tr th {\n",
       "        vertical-align: top;\n",
       "    }\n",
       "\n",
       "    .dataframe thead th {\n",
       "        text-align: right;\n",
       "    }\n",
       "</style>\n",
       "<table border=\"1\" class=\"dataframe\">\n",
       "  <thead>\n",
       "    <tr style=\"text-align: right;\">\n",
       "      <th></th>\n",
       "      <th>employee name</th>\n",
       "      <th>email</th>\n",
       "      <th>job_profile</th>\n",
       "    </tr>\n",
       "  </thead>\n",
       "  <tbody>\n",
       "    <tr>\n",
       "      <th>0</th>\n",
       "      <td>James</td>\n",
       "      <td>kcbhawana78@gmail.com</td>\n",
       "      <td>{'title1': 'Project Manager', 'title2': 'Devel...</td>\n",
       "    </tr>\n",
       "  </tbody>\n",
       "</table>\n",
       "</div>"
      ],
      "text/plain": [
       "  employee name                  email  \\\n",
       "0         James  kcbhawana78@gmail.com   \n",
       "\n",
       "                                         job_profile  \n",
       "0  {'title1': 'Project Manager', 'title2': 'Devel...  "
      ]
     },
     "execution_count": 28,
     "metadata": {},
     "output_type": "execute_result"
    }
   ],
   "source": [
    "pd.read_json(data_str,orient='record')"
   ]
  },
  {
   "cell_type": "code",
   "execution_count": 29,
   "id": "cf46e344",
   "metadata": {},
   "outputs": [
    {
     "name": "stderr",
     "output_type": "stream",
     "text": [
      "/var/folders/yt/21sgl_x942n_q585dtdvrs_40000gn/T/ipykernel_36585/3199905156.py:1: FutureWarning: Passing literal json to 'read_json' is deprecated and will be removed in a future version. To read from a literal string, wrap it in a 'StringIO' object.\n",
      "  pd.read_json(data_str,orient='index')\n"
     ]
    },
    {
     "data": {
      "text/html": [
       "<div>\n",
       "<style scoped>\n",
       "    .dataframe tbody tr th:only-of-type {\n",
       "        vertical-align: middle;\n",
       "    }\n",
       "\n",
       "    .dataframe tbody tr th {\n",
       "        vertical-align: top;\n",
       "    }\n",
       "\n",
       "    .dataframe thead th {\n",
       "        text-align: right;\n",
       "    }\n",
       "</style>\n",
       "<table border=\"1\" class=\"dataframe\">\n",
       "  <thead>\n",
       "    <tr style=\"text-align: right;\">\n",
       "      <th></th>\n",
       "      <th>0</th>\n",
       "    </tr>\n",
       "  </thead>\n",
       "  <tbody>\n",
       "    <tr>\n",
       "      <th>employee name</th>\n",
       "      <td>James</td>\n",
       "    </tr>\n",
       "    <tr>\n",
       "      <th>email</th>\n",
       "      <td>kcbhawana78@gmail.com</td>\n",
       "    </tr>\n",
       "    <tr>\n",
       "      <th>job_profile</th>\n",
       "      <td>[{'title1': 'Project Manager', 'title2': 'Deve...</td>\n",
       "    </tr>\n",
       "  </tbody>\n",
       "</table>\n",
       "</div>"
      ],
      "text/plain": [
       "                                                               0\n",
       "employee name                                              James\n",
       "email                                      kcbhawana78@gmail.com\n",
       "job_profile    [{'title1': 'Project Manager', 'title2': 'Deve..."
      ]
     },
     "execution_count": 29,
     "metadata": {},
     "output_type": "execute_result"
    }
   ],
   "source": [
    "pd.read_json(data_str,orient='index')"
   ]
  },
  {
   "cell_type": "code",
   "execution_count": 31,
   "id": "1aae666a",
   "metadata": {},
   "outputs": [
    {
     "name": "stderr",
     "output_type": "stream",
     "text": [
      "/var/folders/yt/21sgl_x942n_q585dtdvrs_40000gn/T/ipykernel_36585/3744446850.py:1: FutureWarning: Passing literal json to 'read_json' is deprecated and will be removed in a future version. To read from a literal string, wrap it in a 'StringIO' object.\n",
      "  pd.read_json(data_str,orient='column')\n"
     ]
    },
    {
     "data": {
      "text/html": [
       "<div>\n",
       "<style scoped>\n",
       "    .dataframe tbody tr th:only-of-type {\n",
       "        vertical-align: middle;\n",
       "    }\n",
       "\n",
       "    .dataframe tbody tr th {\n",
       "        vertical-align: top;\n",
       "    }\n",
       "\n",
       "    .dataframe thead th {\n",
       "        text-align: right;\n",
       "    }\n",
       "</style>\n",
       "<table border=\"1\" class=\"dataframe\">\n",
       "  <thead>\n",
       "    <tr style=\"text-align: right;\">\n",
       "      <th></th>\n",
       "      <th>employee name</th>\n",
       "      <th>email</th>\n",
       "      <th>job_profile</th>\n",
       "    </tr>\n",
       "  </thead>\n",
       "  <tbody>\n",
       "    <tr>\n",
       "      <th>0</th>\n",
       "      <td>James</td>\n",
       "      <td>kcbhawana78@gmail.com</td>\n",
       "      <td>{'title1': 'Project Manager', 'title2': 'Devel...</td>\n",
       "    </tr>\n",
       "  </tbody>\n",
       "</table>\n",
       "</div>"
      ],
      "text/plain": [
       "  employee name                  email  \\\n",
       "0         James  kcbhawana78@gmail.com   \n",
       "\n",
       "                                         job_profile  \n",
       "0  {'title1': 'Project Manager', 'title2': 'Devel...  "
      ]
     },
     "execution_count": 31,
     "metadata": {},
     "output_type": "execute_result"
    }
   ],
   "source": [
    "pd.read_json(data_str,orient='column')"
   ]
  },
  {
   "cell_type": "code",
   "execution_count": 54,
   "id": "a0ea0efd",
   "metadata": {},
   "outputs": [
    {
     "name": "stdout",
     "output_type": "stream",
     "text": [
      "     col1 col2\n",
      "row1    a    b\n",
      "row2    c    d\n"
     ]
    }
   ],
   "source": [
    "import pandas as pd\n",
    "df=pd.DataFrame([['a','b'],['c','d']],\n",
    "                index=['row1','row2'],\n",
    "                columns=['col1','col2'])\n",
    "print(df)"
   ]
  },
  {
   "cell_type": "code",
   "execution_count": 55,
   "id": "558ec98e",
   "metadata": {},
   "outputs": [
    {
     "data": {
      "text/plain": [
       "'{\"col1\":{\"row1\":\"a\",\"row2\":\"c\"},\"col2\":{\"row1\":\"b\",\"row2\":\"d\"}}'"
      ]
     },
     "execution_count": 55,
     "metadata": {},
     "output_type": "execute_result"
    }
   ],
   "source": [
    "df.to_json()"
   ]
  },
  {
   "cell_type": "code",
   "execution_count": 56,
   "id": "18d68dc0",
   "metadata": {},
   "outputs": [
    {
     "data": {
      "text/plain": [
       "'{\"row1\":{\"col1\":\"a\",\"col2\":\"b\"},\"row2\":{\"col1\":\"c\",\"col2\":\"d\"}}'"
      ]
     },
     "execution_count": 56,
     "metadata": {},
     "output_type": "execute_result"
    }
   ],
   "source": [
    "df.to_json(orient='index')"
   ]
  },
  {
   "cell_type": "code",
   "execution_count": 61,
   "id": "91d10be2",
   "metadata": {},
   "outputs": [
    {
     "data": {
      "text/plain": [
       "'{\"col1\":{\"row1\":\"a\",\"row2\":\"c\"},\"col2\":{\"row1\":\"b\",\"row2\":\"d\"}}'"
      ]
     },
     "execution_count": 61,
     "metadata": {},
     "output_type": "execute_result"
    }
   ],
   "source": [
    "df.to_json(orient='columns')"
   ]
  },
  {
   "cell_type": "code",
   "execution_count": 63,
   "id": "097f2f1e",
   "metadata": {},
   "outputs": [
    {
     "data": {
      "text/plain": [
       "'[{\"col1\":\"a\",\"col2\":\"b\"},{\"col1\":\"c\",\"col2\":\"d\"}]'"
      ]
     },
     "execution_count": 63,
     "metadata": {},
     "output_type": "execute_result"
    }
   ],
   "source": [
    "df.to_json(orient='records')"
   ]
  },
  {
   "cell_type": "code",
   "execution_count": 65,
   "id": "e61630b9",
   "metadata": {},
   "outputs": [
    {
     "data": {
      "text/plain": [
       "'{\"columns\":[\"col1\",\"col2\"],\"index\":[\"row1\",\"row2\"],\"data\":[[\"a\",\"b\"],[\"c\",\"d\"]]}'"
      ]
     },
     "execution_count": 65,
     "metadata": {},
     "output_type": "execute_result"
    }
   ],
   "source": [
    "df.to_json(orient='split')"
   ]
  },
  {
   "cell_type": "code",
   "execution_count": 71,
   "id": "aedfbdc5",
   "metadata": {},
   "outputs": [
    {
     "data": {
      "text/plain": [
       "'{\"schema\":{\"fields\":[{\"name\":\"index\",\"type\":\"string\"},{\"name\":\"col1\",\"type\":\"string\"},{\"name\":\"col2\",\"type\":\"string\"}],\"primaryKey\":[\"index\"],\"pandas_version\":\"1.4.0\"},\"data\":[{\"index\":\"row1\",\"col1\":\"a\",\"col2\":\"b\"},{\"index\":\"row2\",\"col1\":\"c\",\"col2\":\"d\"}]}'"
      ]
     },
     "execution_count": 71,
     "metadata": {},
     "output_type": "execute_result"
    }
   ],
   "source": [
    "df.to_json(orient='table')"
   ]
  },
  {
   "cell_type": "code",
   "execution_count": 72,
   "id": "b2e8dc9f",
   "metadata": {},
   "outputs": [],
   "source": [
    "schema='{\"schema\":{\"fields\":[{\"name\":\"index\",\"type\":\"string\"},{\"name\":\"col1\",\"type\":\"string\"},{\"name\":\"col2\",\"type\":\"string\"}],\"primaryKey\":[\"index\"],\"pandas_version\":\"1.4.0\"},\"data\":[{\"index\":\"row1\",\"col1\":\"a\",\"col2\":\"b\"},{\"index\":\"row2\",\"col1\":\"c\",\"col2\":\"d\"}]}'"
   ]
  },
  {
   "cell_type": "code",
   "execution_count": 73,
   "id": "d885b856",
   "metadata": {},
   "outputs": [
    {
     "name": "stderr",
     "output_type": "stream",
     "text": [
      "/var/folders/yt/21sgl_x942n_q585dtdvrs_40000gn/T/ipykernel_36585/3334002861.py:1: FutureWarning: Passing literal json to 'read_json' is deprecated and will be removed in a future version. To read from a literal string, wrap it in a 'StringIO' object.\n",
      "  pd.read_json(schema,orient='table')\n"
     ]
    },
    {
     "data": {
      "text/html": [
       "<div>\n",
       "<style scoped>\n",
       "    .dataframe tbody tr th:only-of-type {\n",
       "        vertical-align: middle;\n",
       "    }\n",
       "\n",
       "    .dataframe tbody tr th {\n",
       "        vertical-align: top;\n",
       "    }\n",
       "\n",
       "    .dataframe thead th {\n",
       "        text-align: right;\n",
       "    }\n",
       "</style>\n",
       "<table border=\"1\" class=\"dataframe\">\n",
       "  <thead>\n",
       "    <tr style=\"text-align: right;\">\n",
       "      <th></th>\n",
       "      <th>col1</th>\n",
       "      <th>col2</th>\n",
       "    </tr>\n",
       "  </thead>\n",
       "  <tbody>\n",
       "    <tr>\n",
       "      <th>row1</th>\n",
       "      <td>a</td>\n",
       "      <td>b</td>\n",
       "    </tr>\n",
       "    <tr>\n",
       "      <th>row2</th>\n",
       "      <td>c</td>\n",
       "      <td>d</td>\n",
       "    </tr>\n",
       "  </tbody>\n",
       "</table>\n",
       "</div>"
      ],
      "text/plain": [
       "     col1 col2\n",
       "row1    a    b\n",
       "row2    c    d"
      ]
     },
     "execution_count": 73,
     "metadata": {},
     "output_type": "execute_result"
    }
   ],
   "source": [
    "pd.read_json(schema,orient='table')"
   ]
  },
  {
   "cell_type": "code",
   "execution_count": 94,
   "id": "2b167a72",
   "metadata": {},
   "outputs": [
    {
     "data": {
      "text/html": [
       "<div>\n",
       "<style scoped>\n",
       "    .dataframe tbody tr th:only-of-type {\n",
       "        vertical-align: middle;\n",
       "    }\n",
       "\n",
       "    .dataframe tbody tr th {\n",
       "        vertical-align: top;\n",
       "    }\n",
       "\n",
       "    .dataframe thead th {\n",
       "        text-align: right;\n",
       "    }\n",
       "</style>\n",
       "<table border=\"1\" class=\"dataframe\">\n",
       "  <thead>\n",
       "    <tr style=\"text-align: right;\">\n",
       "      <th></th>\n",
       "      <th>beds</th>\n",
       "      <th>baths</th>\n",
       "      <th>size</th>\n",
       "      <th>size_units</th>\n",
       "      <th>lot_size</th>\n",
       "      <th>lot_size_units</th>\n",
       "      <th>zip_code</th>\n",
       "      <th>price</th>\n",
       "    </tr>\n",
       "  </thead>\n",
       "  <tbody>\n",
       "    <tr>\n",
       "      <th>0</th>\n",
       "      <td>3</td>\n",
       "      <td>3.0</td>\n",
       "      <td>2850.0</td>\n",
       "      <td>sqft</td>\n",
       "      <td>4200.00</td>\n",
       "      <td>sqft</td>\n",
       "      <td>98119</td>\n",
       "      <td>1175000.0</td>\n",
       "    </tr>\n",
       "    <tr>\n",
       "      <th>1</th>\n",
       "      <td>4</td>\n",
       "      <td>5.0</td>\n",
       "      <td>3040.0</td>\n",
       "      <td>sqft</td>\n",
       "      <td>5002.00</td>\n",
       "      <td>sqft</td>\n",
       "      <td>98106</td>\n",
       "      <td>1057500.0</td>\n",
       "    </tr>\n",
       "    <tr>\n",
       "      <th>2</th>\n",
       "      <td>3</td>\n",
       "      <td>1.0</td>\n",
       "      <td>1290.0</td>\n",
       "      <td>sqft</td>\n",
       "      <td>6048.00</td>\n",
       "      <td>sqft</td>\n",
       "      <td>98125</td>\n",
       "      <td>799000.0</td>\n",
       "    </tr>\n",
       "    <tr>\n",
       "      <th>3</th>\n",
       "      <td>3</td>\n",
       "      <td>2.0</td>\n",
       "      <td>2360.0</td>\n",
       "      <td>sqft</td>\n",
       "      <td>0.28</td>\n",
       "      <td>acre</td>\n",
       "      <td>98188</td>\n",
       "      <td>565000.0</td>\n",
       "    </tr>\n",
       "    <tr>\n",
       "      <th>4</th>\n",
       "      <td>3</td>\n",
       "      <td>3.5</td>\n",
       "      <td>1942.0</td>\n",
       "      <td>sqft</td>\n",
       "      <td>1603.00</td>\n",
       "      <td>sqft</td>\n",
       "      <td>98107</td>\n",
       "      <td>1187000.0</td>\n",
       "    </tr>\n",
       "  </tbody>\n",
       "</table>\n",
       "</div>"
      ],
      "text/plain": [
       "   beds  baths    size size_units  lot_size lot_size_units  zip_code  \\\n",
       "0     3    3.0  2850.0       sqft   4200.00           sqft     98119   \n",
       "1     4    5.0  3040.0       sqft   5002.00           sqft     98106   \n",
       "2     3    1.0  1290.0       sqft   6048.00           sqft     98125   \n",
       "3     3    2.0  2360.0       sqft      0.28           acre     98188   \n",
       "4     3    3.5  1942.0       sqft   1603.00           sqft     98107   \n",
       "\n",
       "       price  \n",
       "0  1175000.0  \n",
       "1  1057500.0  \n",
       "2   799000.0  \n",
       "3   565000.0  \n",
       "4  1187000.0  "
      ]
     },
     "execution_count": 94,
     "metadata": {},
     "output_type": "execute_result"
    }
   ],
   "source": [
    "df=pd.read_csv('House_Dataset.csv')\n",
    "df.head()"
   ]
  },
  {
   "cell_type": "code",
   "execution_count": 104,
   "id": "c9c3bae8",
   "metadata": {},
   "outputs": [
    {
     "data": {
      "text/plain": [
       "'{\"0\":{\"beds\":3,\"baths\":3.0,\"size\":2850.0,\"size_units\":\"sqft\",\"lot_size\":4200.0,\"lot_size_units\":\"sqft\",\"zip_code\":98119,\"price\":1175000.0},\"1\":{\"beds\":4,\"baths\":5.0,\"size\":3040.0,\"size_units\":\"sqft\",\"lot_size\":5002.0,\"lot_size_units\":\"sqft\",\"zip_code\":98106,\"price\":1057500.0},\"2\":{\"beds\":3,\"baths\":1.0,\"size\":1290.0,\"size_units\":\"sqft\",\"lot_size\":6048.0,\"lot_size_units\":\"sqft\",\"zip_code\":98125,\"price\":799000.0},\"3\":{\"beds\":3,\"baths\":2.0,\"size\":2360.0,\"size_units\":\"sqft\",\"lot_size\":0.28,\"lot_size_units\":\"acre\",\"zip_code\":98188,\"price\":565000.0},\"4\":{\"beds\":3,\"baths\":3.5,\"size\":1942.0,\"size_units\":\"sqft\",\"lot_size\":1603.0,\"lot_size_units\":\"sqft\",\"zip_code\":98107,\"price\":1187000.0},\"5\":{\"beds\":2,\"baths\":2.0,\"size\":963.0,\"size_units\":\"sqft\",\"lot_size\":4753.0,\"lot_size_units\":\"sqft\",\"zip_code\":98122,\"price\":701000.0},\"6\":{\"beds\":1,\"baths\":1.0,\"size\":756.0,\"size_units\":\"sqft\",\"lot_size\":null,\"lot_size_units\":null,\"zip_code\":98105,\"price\":480000.0},\"7\":{\"beds\":4,\"baths\":6.0,\"size\":3300.0,\"size_units\":\"sqft\",\"lot_size\":5810.0,\"lot_size_units\":\"sqft\",\"zip_code\":98199,\"price\":1795000.0},\"8\":{\"beds\":4,\"baths\":2.0,\"size\":2060.0,\"size_units\":\"sqft\",\"lot_size\":4206.0,\"lot_size_units\":\"sqft\",\"zip_code\":98144,\"price\":1025000.0},\"9\":{\"beds\":1,\"baths\":1.0,\"size\":672.0,\"size_units\":\"sqft\",\"lot_size\":null,\"lot_size_units\":null,\"zip_code\":98122,\"price\":450000.0},\"10\":{\"beds\":3,\"baths\":2.5,\"size\":1760.0,\"size_units\":\"sqft\",\"lot_size\":3630.0,\"lot_size_units\":\"sqft\",\"zip_code\":98122,\"price\":1135000.0},\"11\":{\"beds\":1,\"baths\":1.5,\"size\":924.0,\"size_units\":\"sqft\",\"lot_size\":null,\"lot_size_units\":null,\"zip_code\":98121,\"price\":568000.0},\"12\":{\"beds\":3,\"baths\":2.0,\"size\":2500.0,\"size_units\":\"sqft\",\"lot_size\":5000.0,\"lot_size_units\":\"sqft\",\"zip_code\":98136,\"price\":648000.0},\"13\":{\"beds\":2,\"baths\":2.0,\"size\":1800.0,\"size_units\":\"sqft\",\"lot_size\":0.72,\"lot_size_units\":\"acre\",\"zip_code\":98199,\"price\":699950.0},\"14\":{\"beds\":1,\"baths\":1.0,\"size\":574.0,\"size_units\":\"sqft\",\"lot_size\":null,\"lot_size_units\":null,\"zip_code\":98104,\"price\":429950.0},\"15\":{\"beds\":2,\"baths\":2.0,\"size\":2241.0,\"size_units\":\"sqft\",\"lot_size\":1.09,\"lot_size_units\":\"acre\",\"zip_code\":98112,\"price\":2450000.0},\"16\":{\"beds\":3,\"baths\":1.5,\"size\":2320.0,\"size_units\":\"sqft\",\"lot_size\":4000.0,\"lot_size_units\":\"sqft\",\"zip_code\":98109,\"price\":1275000.0},\"17\":{\"beds\":2,\"baths\":2.0,\"size\":1415.0,\"size_units\":\"sqft\",\"lot_size\":null,\"lot_size_units\":null,\"zip_code\":98125,\"price\":449000.0},\"18\":{\"beds\":3,\"baths\":1.5,\"size\":1750.0,\"size_units\":\"sqft\",\"lot_size\":2460.0,\"lot_size_units\":\"sqft\",\"zip_code\":98102,\"price\":925000.0},\"19\":{\"beds\":3,\"baths\":3.0,\"size\":2340.0,\"size_units\":\"sqft\",\"lot_size\":6640.0,\"lot_size_units\":\"sqft\",\"zip_code\":98126,\"price\":974898.0},\"20\":{\"beds\":4,\"baths\":2.0,\"size\":1690.0,\"size_units\":\"sqft\",\"lot_size\":0.32,\"lot_size_units\":\"acre\",\"zip_code\":98168,\"price\":550000.0},\"21\":{\"beds\":3,\"baths\":2.5,\"size\":2320.0,\"size_units\":\"sqft\",\"lot_size\":3500.0,\"lot_size_units\":\"sqft\",\"zip_code\":98103,\"price\":1175000.0},\"22\":{\"beds\":2,\"baths\":1.0,\"size\":1760.0,\"size_units\":\"sqft\",\"lot_size\":5000.0,\"lot_size_units\":\"sqft\",\"zip_code\":98116,\"price\":700000.0},\"23\":{\"beds\":1,\"baths\":1.0,\"size\":685.0,\"size_units\":\"sqft\",\"lot_size\":null,\"lot_size_units\":null,\"zip_code\":98121,\"price\":570000.0},\"24\":{\"beds\":2,\"baths\":2.0,\"size\":946.0,\"size_units\":\"sqft\",\"lot_size\":3250.0,\"lot_size_units\":\"sqft\",\"zip_code\":98103,\"price\":690000.0},\"25\":{\"beds\":3,\"baths\":2.0,\"size\":1610.0,\"size_units\":\"sqft\",\"lot_size\":3060.0,\"lot_size_units\":\"sqft\",\"zip_code\":98146,\"price\":540000.0},\"26\":{\"beds\":3,\"baths\":1.0,\"size\":1390.0,\"size_units\":\"sqft\",\"lot_size\":3774.0,\"lot_size_units\":\"sqft\",\"zip_code\":98105,\"price\":450000.0},\"27\":{\"beds\":2,\"baths\":1.0,\"size\":1620.0,\"size_units\":\"sqft\",\"lot_size\":6600.0,\"lot_size_units\":\"sqft\",\"zip_code\":98178,\"price\":487639.0},\"28\":{\"beds\":4,\"baths\":2.5,\"size\":2010.0,\"size_units\":\"sqft\",\"lot_size\":6000.0,\"lot_size_units\":\"sqft\",\"zip_code\":98136,\"price\":982000.0},\"29\":{\"beds\":2,\"baths\":1.5,\"size\":890.0,\"size_units\":\"sqft\",\"lot_size\":2875.0,\"lot_size_units\":\"sqft\",\"zip_code\":98146,\"price\":510000.0},\"30\":{\"beds\":2,\"baths\":2.0,\"size\":964.0,\"size_units\":\"sqft\",\"lot_size\":3.97,\"lot_size_units\":\"acre\",\"zip_code\":98126,\"price\":512500.0},\"31\":{\"beds\":2,\"baths\":1.0,\"size\":980.0,\"size_units\":\"sqft\",\"lot_size\":2226.0,\"lot_size_units\":\"sqft\",\"zip_code\":98144,\"price\":598000.0},\"32\":{\"beds\":4,\"baths\":4.0,\"size\":3310.0,\"size_units\":\"sqft\",\"lot_size\":4313.0,\"lot_size_units\":\"sqft\",\"zip_code\":98116,\"price\":1215000.0},\"33\":{\"beds\":2,\"baths\":1.0,\"size\":840.0,\"size_units\":\"sqft\",\"lot_size\":4263.0,\"lot_size_units\":\"sqft\",\"zip_code\":98146,\"price\":485000.0},\"34\":{\"beds\":2,\"baths\":2.0,\"size\":1878.0,\"size_units\":\"sqft\",\"lot_size\":null,\"lot_size_units\":null,\"zip_code\":98115,\"price\":515000.0},\"35\":{\"beds\":3,\"baths\":2.0,\"size\":1910.0,\"size_units\":\"sqft\",\"lot_size\":2000.0,\"lot_size_units\":\"sqft\",\"zip_code\":98109,\"price\":1090000.0},\"36\":{\"beds\":2,\"baths\":1.0,\"size\":900.0,\"size_units\":\"sqft\",\"lot_size\":4066.0,\"lot_size_units\":\"sqft\",\"zip_code\":98133,\"price\":474000.0},\"37\":{\"beds\":3,\"baths\":2.0,\"size\":2210.0,\"size_units\":\"sqft\",\"lot_size\":7200.0,\"lot_size_units\":\"sqft\",\"zip_code\":98118,\"price\":1425000.0},\"38\":{\"beds\":3,\"baths\":2.5,\"size\":2168.0,\"size_units\":\"sqft\",\"lot_size\":null,\"lot_size_units\":null,\"zip_code\":98119,\"price\":1700000.0},\"39\":{\"beds\":3,\"baths\":2.0,\"size\":2760.0,\"size_units\":\"sqft\",\"lot_size\":4800.0,\"lot_size_units\":\"sqft\",\"zip_code\":98105,\"price\":1235000.0},\"40\":{\"beds\":2,\"baths\":2.5,\"size\":2760.0,\"size_units\":\"sqft\",\"lot_size\":3.06,\"lot_size_units\":\"acre\",\"zip_code\":98105,\"price\":1440000.0},\"41\":{\"beds\":2,\"baths\":2.5,\"size\":1291.0,\"size_units\":\"sqft\",\"lot_size\":793.0,\"lot_size_units\":\"sqft\",\"zip_code\":98144,\"price\":680000.0},\"42\":{\"beds\":7,\"baths\":6.0,\"size\":3780.0,\"size_units\":\"sqft\",\"lot_size\":5020.0,\"lot_size_units\":\"sqft\",\"zip_code\":98119,\"price\":1210000.0},\"43\":{\"beds\":4,\"baths\":3.0,\"size\":2190.0,\"size_units\":\"sqft\",\"lot_size\":4000.0,\"lot_size_units\":\"sqft\",\"zip_code\":98112,\"price\":1685000.0},\"44\":{\"beds\":4,\"baths\":3.5,\"size\":4027.0,\"size_units\":\"sqft\",\"lot_size\":0.3,\"lot_size_units\":\"acre\",\"zip_code\":98199,\"price\":2170000.0},\"45\":{\"beds\":4,\"baths\":2.5,\"size\":3410.0,\"size_units\":\"sqft\",\"lot_size\":9602.0,\"lot_size_units\":\"sqft\",\"zip_code\":98125,\"price\":1700000.0},\"46\":{\"beds\":5,\"baths\":2.0,\"size\":2470.0,\"size_units\":\"sqft\",\"lot_size\":3880.0,\"lot_size_units\":\"sqft\",\"zip_code\":98107,\"price\":905000.0},\"47\":{\"beds\":3,\"baths\":2.0,\"size\":1850.0,\"size_units\":\"sqft\",\"lot_size\":3880.0,\"lot_size_units\":\"sqft\",\"zip_code\":98117,\"price\":890000.0},\"48\":{\"beds\":4,\"baths\":3.0,\"size\":2430.0,\"size_units\":\"sqft\",\"lot_size\":5160.0,\"lot_size_units\":\"sqft\",\"zip_code\":98106,\"price\":995000.0},\"49\":{\"beds\":2,\"baths\":2.0,\"size\":1395.0,\"size_units\":\"sqft\",\"lot_size\":797.0,\"lot_size_units\":\"sqft\",\"zip_code\":98199,\"price\":751849.0},\"50\":{\"beds\":2,\"baths\":1.5,\"size\":1290.0,\"size_units\":\"sqft\",\"lot_size\":5100.0,\"lot_size_units\":\"sqft\",\"zip_code\":98117,\"price\":869000.0},\"51\":{\"beds\":4,\"baths\":1.0,\"size\":1485.0,\"size_units\":\"sqft\",\"lot_size\":6050.0,\"lot_size_units\":\"sqft\",\"zip_code\":98178,\"price\":500000.0},\"52\":{\"beds\":1,\"baths\":1.0,\"size\":718.0,\"size_units\":\"sqft\",\"lot_size\":0.65,\"lot_size_units\":\"acre\",\"zip_code\":98115,\"price\":525000.0},\"53\":{\"beds\":3,\"baths\":2.5,\"size\":2220.0,\"size_units\":\"sqft\",\"lot_size\":8353.0,\"lot_size_units\":\"sqft\",\"zip_code\":98177,\"price\":1350000.0},\"54\":{\"beds\":2,\"baths\":2.0,\"size\":899.0,\"size_units\":\"sqft\",\"lot_size\":null,\"lot_size_units\":null,\"zip_code\":98103,\"price\":587000.0},\"55\":{\"beds\":2,\"baths\":1.0,\"size\":785.0,\"size_units\":\"sqft\",\"lot_size\":null,\"lot_size_units\":null,\"zip_code\":98102,\"price\":470000.0},\"56\":{\"beds\":3,\"baths\":3.0,\"size\":2225.0,\"size_units\":\"sqft\",\"lot_size\":null,\"lot_size_units\":null,\"zip_code\":98101,\"price\":2850000.0},\"57\":{\"beds\":3,\"baths\":2.0,\"size\":1648.0,\"size_units\":\"sqft\",\"lot_size\":6250.0,\"lot_size_units\":\"sqft\",\"zip_code\":98126,\"price\":765000.0},\"58\":{\"beds\":5,\"baths\":3.0,\"size\":1840.0,\"size_units\":\"sqft\",\"lot_size\":5415.0,\"lot_size_units\":\"sqft\",\"zip_code\":98115,\"price\":650000.0},\"59\":{\"beds\":3,\"baths\":2.5,\"size\":1785.0,\"size_units\":\"sqft\",\"lot_size\":1500.0,\"lot_size_units\":\"sqft\",\"zip_code\":98144,\"price\":850000.0},\"60\":{\"beds\":3,\"baths\":1.5,\"size\":1520.0,\"size_units\":\"sqft\",\"lot_size\":9405.0,\"lot_size_units\":\"sqft\",\"zip_code\":98136,\"price\":1200000.0},\"61\":{\"beds\":3,\"baths\":1.5,\"size\":1460.0,\"size_units\":\"sqft\",\"lot_size\":0.25,\"lot_size_units\":\"acre\",\"zip_code\":98168,\"price\":410000.0},\"62\":{\"beds\":2,\"baths\":2.0,\"size\":1656.0,\"size_units\":\"sqft\",\"lot_size\":null,\"lot_size_units\":null,\"zip_code\":98115,\"price\":642000.0},\"63\":{\"beds\":3,\"baths\":1.5,\"size\":1690.0,\"size_units\":\"sqft\",\"lot_size\":4226.0,\"lot_size_units\":\"sqft\",\"zip_code\":98105,\"price\":625000.0},\"64\":{\"beds\":4,\"baths\":2.5,\"size\":3200.0,\"size_units\":\"sqft\",\"lot_size\":0.28,\"lot_size_units\":\"acre\",\"zip_code\":98118,\"price\":1100000.0},\"65\":{\"beds\":2,\"baths\":2.0,\"size\":1030.0,\"size_units\":\"sqft\",\"lot_size\":4507.0,\"lot_size_units\":\"sqft\",\"zip_code\":98112,\"price\":825000.0},\"66\":{\"beds\":3,\"baths\":2.5,\"size\":1220.0,\"size_units\":\"sqft\",\"lot_size\":1095.0,\"lot_size_units\":\"sqft\",\"zip_code\":98109,\"price\":900000.0},\"67\":{\"beds\":3,\"baths\":2.0,\"size\":1330.0,\"size_units\":\"sqft\",\"lot_size\":2875.0,\"lot_size_units\":\"sqft\",\"zip_code\":98126,\"price\":705000.0},\"68\":{\"beds\":2,\"baths\":1.0,\"size\":877.0,\"size_units\":\"sqft\",\"lot_size\":4.06,\"lot_size_units\":\"acre\",\"zip_code\":98146,\"price\":350000.0},\"69\":{\"beds\":2,\"baths\":2.0,\"size\":1254.0,\"size_units\":\"sqft\",\"lot_size\":null,\"lot_size_units\":null,\"zip_code\":98121,\"price\":1069000.0},\"70\":{\"beds\":4,\"baths\":3.0,\"size\":3160.0,\"size_units\":\"sqft\",\"lot_size\":4830.0,\"lot_size_units\":\"sqft\",\"zip_code\":98116,\"price\":1425000.0},\"71\":{\"beds\":3,\"baths\":2.0,\"size\":1305.0,\"size_units\":\"sqft\",\"lot_size\":4400.0,\"lot_size_units\":\"sqft\",\"zip_code\":98118,\"price\":714000.0},\"72\":{\"beds\":3,\"baths\":2.0,\"size\":2798.0,\"size_units\":\"sqft\",\"lot_size\":3667.0,\"lot_size_units\":\"sqft\",\"zip_code\":98109,\"price\":1185000.0},\"73\":{\"beds\":4,\"baths\":2.0,\"size\":2100.0,\"size_units\":\"sqft\",\"lot_size\":4799.0,\"lot_size_units\":\"sqft\",\"zip_code\":98199,\"price\":1000000.0},\"74\":{\"beds\":3,\"baths\":2.5,\"size\":1620.0,\"size_units\":\"sqft\",\"lot_size\":5000.0,\"lot_size_units\":\"sqft\",\"zip_code\":98117,\"price\":885000.0},\"75\":{\"beds\":1,\"baths\":1.0,\"size\":801.0,\"size_units\":\"sqft\",\"lot_size\":0.54,\"lot_size_units\":\"acre\",\"zip_code\":98102,\"price\":499995.0},\"76\":{\"beds\":5,\"baths\":2.0,\"size\":2180.0,\"size_units\":\"sqft\",\"lot_size\":4000.0,\"lot_size_units\":\"sqft\",\"zip_code\":98144,\"price\":927500.0},\"77\":{\"beds\":2,\"baths\":2.0,\"size\":1025.0,\"size_units\":\"sqft\",\"lot_size\":null,\"lot_size_units\":null,\"zip_code\":98126,\"price\":470000.0},\"78\":{\"beds\":3,\"baths\":2.5,\"size\":1830.0,\"size_units\":\"sqft\",\"lot_size\":1929.0,\"lot_size_units\":\"sqft\",\"zip_code\":98116,\"price\":1150000.0},\"79\":{\"beds\":3,\"baths\":2.5,\"size\":1800.0,\"size_units\":\"sqft\",\"lot_size\":2380.0,\"lot_size_units\":\"sqft\",\"zip_code\":98126,\"price\":715000.0},\"80\":{\"beds\":3,\"baths\":2.0,\"size\":2470.0,\"size_units\":\"sqft\",\"lot_size\":4192.0,\"lot_size_units\":\"sqft\",\"zip_code\":98105,\"price\":705000.0},\"81\":{\"beds\":2,\"baths\":1.0,\"size\":2090.0,\"size_units\":\"sqft\",\"lot_size\":3290.0,\"lot_size_units\":\"sqft\",\"zip_code\":98103,\"price\":820000.0},\"82\":{\"beds\":1,\"baths\":1.0,\"size\":661.0,\"size_units\":\"sqft\",\"lot_size\":8255.0,\"lot_size_units\":\"sqft\",\"zip_code\":98102,\"price\":415000.0},\"83\":{\"beds\":5,\"baths\":5.0,\"size\":2440.0,\"size_units\":\"sqft\",\"lot_size\":0.36,\"lot_size_units\":\"acre\",\"zip_code\":98115,\"price\":1505000.0},\"84\":{\"beds\":3,\"baths\":1.5,\"size\":1770.0,\"size_units\":\"sqft\",\"lot_size\":0.52,\"lot_size_units\":\"acre\",\"zip_code\":98168,\"price\":539000.0},\"85\":{\"beds\":3,\"baths\":2.5,\"size\":1540.0,\"size_units\":\"sqft\",\"lot_size\":1189.0,\"lot_size_units\":\"sqft\",\"zip_code\":98107,\"price\":756000.0},\"86\":{\"beds\":5,\"baths\":4.0,\"size\":3510.0,\"size_units\":\"sqft\",\"lot_size\":5400.0,\"lot_size_units\":\"sqft\",\"zip_code\":98199,\"price\":1735000.0},\"87\":{\"beds\":5,\"baths\":3.0,\"size\":2480.0,\"size_units\":\"sqft\",\"lot_size\":5300.0,\"lot_size_units\":\"sqft\",\"zip_code\":98126,\"price\":845000.0},\"88\":{\"beds\":4,\"baths\":2.5,\"size\":1690.0,\"size_units\":\"sqft\",\"lot_size\":6000.0,\"lot_size_units\":\"sqft\",\"zip_code\":98108,\"price\":399950.0},\"89\":{\"beds\":9,\"baths\":6.0,\"size\":6139.0,\"size_units\":\"sqft\",\"lot_size\":5750.0,\"lot_size_units\":\"sqft\",\"zip_code\":98116,\"price\":2800000.0},\"90\":{\"beds\":5,\"baths\":4.0,\"size\":4770.0,\"size_units\":\"sqft\",\"lot_size\":9000.0,\"lot_size_units\":\"sqft\",\"zip_code\":98115,\"price\":1140000.0},\"91\":{\"beds\":2,\"baths\":2.0,\"size\":1353.0,\"size_units\":\"sqft\",\"lot_size\":null,\"lot_size_units\":null,\"zip_code\":98115,\"price\":749000.0},\"92\":{\"beds\":3,\"baths\":1.5,\"size\":1190.0,\"size_units\":\"sqft\",\"lot_size\":4800.0,\"lot_size_units\":\"sqft\",\"zip_code\":98108,\"price\":197009.0},\"93\":{\"beds\":5,\"baths\":3.5,\"size\":4280.0,\"size_units\":\"sqft\",\"lot_size\":4000.0,\"lot_size_units\":\"sqft\",\"zip_code\":98102,\"price\":2300000.0},\"94\":{\"beds\":1,\"baths\":1.0,\"size\":810.0,\"size_units\":\"sqft\",\"lot_size\":7500.0,\"lot_size_units\":\"sqft\",\"zip_code\":98108,\"price\":385000.0},\"95\":{\"beds\":3,\"baths\":2.0,\"size\":1540.0,\"size_units\":\"sqft\",\"lot_size\":3755.0,\"lot_size_units\":\"sqft\",\"zip_code\":98108,\"price\":632500.0},\"96\":{\"beds\":3,\"baths\":2.5,\"size\":1660.0,\"size_units\":\"sqft\",\"lot_size\":8450.0,\"lot_size_units\":\"sqft\",\"zip_code\":98146,\"price\":695000.0},\"97\":{\"beds\":3,\"baths\":2.0,\"size\":1640.0,\"size_units\":\"sqft\",\"lot_size\":4320.0,\"lot_size_units\":\"sqft\",\"zip_code\":98136,\"price\":907500.0},\"98\":{\"beds\":2,\"baths\":1.0,\"size\":1600.0,\"size_units\":\"sqft\",\"lot_size\":3750.0,\"lot_size_units\":\"sqft\",\"zip_code\":98117,\"price\":852500.0},\"99\":{\"beds\":4,\"baths\":2.0,\"size\":1300.0,\"size_units\":\"sqft\",\"lot_size\":6240.0,\"lot_size_units\":\"sqft\",\"zip_code\":98146,\"price\":589950.0},\"100\":{\"beds\":2,\"baths\":2.0,\"size\":1192.0,\"size_units\":\"sqft\",\"lot_size\":583.0,\"lot_size_units\":\"sqft\",\"zip_code\":98117,\"price\":674800.0},\"101\":{\"beds\":2,\"baths\":1.0,\"size\":720.0,\"size_units\":\"sqft\",\"lot_size\":4000.0,\"lot_size_units\":\"sqft\",\"zip_code\":98106,\"price\":540000.0},\"102\":{\"beds\":2,\"baths\":2.0,\"size\":1171.0,\"size_units\":\"sqft\",\"lot_size\":null,\"lot_size_units\":null,\"zip_code\":98103,\"price\":685000.0},\"103\":{\"beds\":3,\"baths\":2.5,\"size\":1390.0,\"size_units\":\"sqft\",\"lot_size\":1242.0,\"lot_size_units\":\"sqft\",\"zip_code\":98125,\"price\":569995.0},\"104\":{\"beds\":4,\"baths\":1.5,\"size\":2260.0,\"size_units\":\"sqft\",\"lot_size\":0.27,\"lot_size_units\":\"acre\",\"zip_code\":98125,\"price\":678000.0},\"105\":{\"beds\":2,\"baths\":1.0,\"size\":585.0,\"size_units\":\"sqft\",\"lot_size\":0.31,\"lot_size_units\":\"acre\",\"zip_code\":98107,\"price\":430000.0},\"106\":{\"beds\":4,\"baths\":2.5,\"size\":1333.0,\"size_units\":\"sqft\",\"lot_size\":1.22,\"lot_size_units\":\"acre\",\"zip_code\":98118,\"price\":476000.0},\"107\":{\"beds\":4,\"baths\":1.0,\"size\":1530.0,\"size_units\":\"sqft\",\"lot_size\":7810.0,\"lot_size_units\":\"sqft\",\"zip_code\":98126,\"price\":565000.0},\"108\":{\"beds\":2,\"baths\":1.0,\"size\":1720.0,\"size_units\":\"sqft\",\"lot_size\":3175.0,\"lot_size_units\":\"sqft\",\"zip_code\":98144,\"price\":619000.0},\"109\":{\"beds\":1,\"baths\":1.0,\"size\":591.0,\"size_units\":\"sqft\",\"lot_size\":null,\"lot_size_units\":null,\"zip_code\":98121,\"price\":405000.0},\"110\":{\"beds\":2,\"baths\":1.0,\"size\":839.0,\"size_units\":\"sqft\",\"lot_size\":0.25,\"lot_size_units\":\"acre\",\"zip_code\":98199,\"price\":449000.0},\"111\":{\"beds\":2,\"baths\":2.0,\"size\":886.0,\"size_units\":\"sqft\",\"lot_size\":1037.0,\"lot_size_units\":\"sqft\",\"zip_code\":98116,\"price\":640000.0},\"112\":{\"beds\":1,\"baths\":1.0,\"size\":872.0,\"size_units\":\"sqft\",\"lot_size\":null,\"lot_size_units\":null,\"zip_code\":98107,\"price\":550000.0},\"113\":{\"beds\":4,\"baths\":3.5,\"size\":2780.0,\"size_units\":\"sqft\",\"lot_size\":3060.0,\"lot_size_units\":\"sqft\",\"zip_code\":98146,\"price\":900000.0},\"114\":{\"beds\":3,\"baths\":3.5,\"size\":1770.0,\"size_units\":\"sqft\",\"lot_size\":1669.0,\"lot_size_units\":\"sqft\",\"zip_code\":98107,\"price\":1025000.0},\"115\":{\"beds\":4,\"baths\":2.5,\"size\":3096.0,\"size_units\":\"sqft\",\"lot_size\":9375.0,\"lot_size_units\":\"sqft\",\"zip_code\":98177,\"price\":1870000.0},\"116\":{\"beds\":2,\"baths\":1.0,\"size\":1750.0,\"size_units\":\"sqft\",\"lot_size\":3200.0,\"lot_size_units\":\"sqft\",\"zip_code\":98103,\"price\":840000.0},\"117\":{\"beds\":5,\"baths\":3.0,\"size\":3110.0,\"size_units\":\"sqft\",\"lot_size\":0.24,\"lot_size_units\":\"acre\",\"zip_code\":98177,\"price\":2800000.0},\"118\":{\"beds\":1,\"baths\":1.0,\"size\":608.0,\"size_units\":\"sqft\",\"lot_size\":0.57,\"lot_size_units\":\"acre\",\"zip_code\":98103,\"price\":360000.0},\"119\":{\"beds\":2,\"baths\":2.0,\"size\":866.0,\"size_units\":\"sqft\",\"lot_size\":null,\"lot_size_units\":null,\"zip_code\":98122,\"price\":543000.0},\"120\":{\"beds\":3,\"baths\":2.0,\"size\":1710.0,\"size_units\":\"sqft\",\"lot_size\":6179.0,\"lot_size_units\":\"sqft\",\"zip_code\":98117,\"price\":1015000.0},\"121\":{\"beds\":3,\"baths\":2.0,\"size\":1250.0,\"size_units\":\"sqft\",\"lot_size\":1306.0,\"lot_size_units\":\"sqft\",\"zip_code\":98107,\"price\":750000.0},\"122\":{\"beds\":4,\"baths\":2.0,\"size\":3195.0,\"size_units\":\"sqft\",\"lot_size\":5434.0,\"lot_size_units\":\"sqft\",\"zip_code\":98199,\"price\":1490000.0},\"123\":{\"beds\":7,\"baths\":3.5,\"size\":3550.0,\"size_units\":\"sqft\",\"lot_size\":7680.0,\"lot_size_units\":\"sqft\",\"zip_code\":98199,\"price\":1850000.0},\"124\":{\"beds\":3,\"baths\":1.5,\"size\":2800.0,\"size_units\":\"sqft\",\"lot_size\":3876.0,\"lot_size_units\":\"sqft\",\"zip_code\":98103,\"price\":1000000.0},\"125\":{\"beds\":7,\"baths\":7.0,\"size\":3580.0,\"size_units\":\"sqft\",\"lot_size\":5500.0,\"lot_size_units\":\"sqft\",\"zip_code\":98105,\"price\":1850000.0},\"126\":{\"beds\":3,\"baths\":3.5,\"size\":1650.0,\"size_units\":\"sqft\",\"lot_size\":1701.0,\"lot_size_units\":\"sqft\",\"zip_code\":98107,\"price\":1050000.0},\"127\":{\"beds\":1,\"baths\":1.0,\"size\":610.0,\"size_units\":\"sqft\",\"lot_size\":null,\"lot_size_units\":null,\"zip_code\":98119,\"price\":340000.0},\"128\":{\"beds\":4,\"baths\":2.0,\"size\":2950.0,\"size_units\":\"sqft\",\"lot_size\":3417.0,\"lot_size_units\":\"sqft\",\"zip_code\":98199,\"price\":1200000.0},\"129\":{\"beds\":4,\"baths\":3.0,\"size\":2480.0,\"size_units\":\"sqft\",\"lot_size\":5000.0,\"lot_size_units\":\"sqft\",\"zip_code\":98105,\"price\":1950000.0},\"130\":{\"beds\":3,\"baths\":2.0,\"size\":1600.0,\"size_units\":\"sqft\",\"lot_size\":6845.0,\"lot_size_units\":\"sqft\",\"zip_code\":98125,\"price\":500000.0},\"131\":{\"beds\":1,\"baths\":1.0,\"size\":662.0,\"size_units\":\"sqft\",\"lot_size\":null,\"lot_size_units\":null,\"zip_code\":98101,\"price\":685000.0},\"132\":{\"beds\":4,\"baths\":2.5,\"size\":2660.0,\"size_units\":\"sqft\",\"lot_size\":5300.0,\"lot_size_units\":\"sqft\",\"zip_code\":98122,\"price\":1745000.0},\"133\":{\"beds\":4,\"baths\":3.0,\"size\":2960.0,\"size_units\":\"sqft\",\"lot_size\":8645.0,\"lot_size_units\":\"sqft\",\"zip_code\":98178,\"price\":875000.0},\"134\":{\"beds\":3,\"baths\":2.5,\"size\":2060.0,\"size_units\":\"sqft\",\"lot_size\":1142.0,\"lot_size_units\":\"sqft\",\"zip_code\":98103,\"price\":1170000.0},\"135\":{\"beds\":3,\"baths\":3.0,\"size\":1860.0,\"size_units\":\"sqft\",\"lot_size\":3060.0,\"lot_size_units\":\"sqft\",\"zip_code\":98119,\"price\":1260000.0},\"136\":{\"beds\":3,\"baths\":1.5,\"size\":1833.0,\"size_units\":\"sqft\",\"lot_size\":2114.0,\"lot_size_units\":\"sqft\",\"zip_code\":98122,\"price\":985000.0},\"137\":{\"beds\":3,\"baths\":2.0,\"size\":1404.0,\"size_units\":\"sqft\",\"lot_size\":9974.0,\"lot_size_units\":\"sqft\",\"zip_code\":98146,\"price\":449000.0},\"138\":{\"beds\":3,\"baths\":3.0,\"size\":1540.0,\"size_units\":\"sqft\",\"lot_size\":993.0,\"lot_size_units\":\"sqft\",\"zip_code\":98122,\"price\":900000.0},\"139\":{\"beds\":1,\"baths\":1.0,\"size\":772.0,\"size_units\":\"sqft\",\"lot_size\":null,\"lot_size_units\":null,\"zip_code\":98121,\"price\":439000.0},\"140\":{\"beds\":4,\"baths\":1.0,\"size\":2169.0,\"size_units\":\"sqft\",\"lot_size\":0.23,\"lot_size_units\":\"acre\",\"zip_code\":98118,\"price\":867000.0},\"141\":{\"beds\":3,\"baths\":2.0,\"size\":1840.0,\"size_units\":\"sqft\",\"lot_size\":5100.0,\"lot_size_units\":\"sqft\",\"zip_code\":98136,\"price\":851000.0},\"142\":{\"beds\":3,\"baths\":4.0,\"size\":2080.0,\"size_units\":\"sqft\",\"lot_size\":8777.0,\"lot_size_units\":\"sqft\",\"zip_code\":98133,\"price\":2250000.0},\"143\":{\"beds\":4,\"baths\":3.5,\"size\":3738.0,\"size_units\":\"sqft\",\"lot_size\":4000.0,\"lot_size_units\":\"sqft\",\"zip_code\":98102,\"price\":3480000.0},\"144\":{\"beds\":1,\"baths\":1.0,\"size\":610.0,\"size_units\":\"sqft\",\"lot_size\":6150.0,\"lot_size_units\":\"sqft\",\"zip_code\":98126,\"price\":425000.0},\"145\":{\"beds\":5,\"baths\":2.5,\"size\":2786.0,\"size_units\":\"sqft\",\"lot_size\":6760.0,\"lot_size_units\":\"sqft\",\"zip_code\":98125,\"price\":900000.0},\"146\":{\"beds\":3,\"baths\":1.0,\"size\":1950.0,\"size_units\":\"sqft\",\"lot_size\":7686.0,\"lot_size_units\":\"sqft\",\"zip_code\":98177,\"price\":562500.0},\"147\":{\"beds\":3,\"baths\":1.0,\"size\":1580.0,\"size_units\":\"sqft\",\"lot_size\":3880.0,\"lot_size_units\":\"sqft\",\"zip_code\":98103,\"price\":704950.0},\"148\":{\"beds\":2,\"baths\":1.5,\"size\":900.0,\"size_units\":\"sqft\",\"lot_size\":null,\"lot_size_units\":null,\"zip_code\":98133,\"price\":455000.0},\"149\":{\"beds\":3,\"baths\":2.5,\"size\":1757.0,\"size_units\":\"sqft\",\"lot_size\":1873.0,\"lot_size_units\":\"sqft\",\"zip_code\":98103,\"price\":1155000.0},\"150\":{\"beds\":2,\"baths\":2.5,\"size\":2349.0,\"size_units\":\"sqft\",\"lot_size\":3200.0,\"lot_size_units\":\"sqft\",\"zip_code\":98122,\"price\":1775000.0},\"151\":{\"beds\":1,\"baths\":1.0,\"size\":506.0,\"size_units\":\"sqft\",\"lot_size\":null,\"lot_size_units\":null,\"zip_code\":98121,\"price\":396000.0},\"152\":{\"beds\":2,\"baths\":2.5,\"size\":3030.0,\"size_units\":\"sqft\",\"lot_size\":5381.0,\"lot_size_units\":\"sqft\",\"zip_code\":98199,\"price\":2600000.0},\"153\":{\"beds\":4,\"baths\":3.5,\"size\":3760.0,\"size_units\":\"sqft\",\"lot_size\":4720.0,\"lot_size_units\":\"sqft\",\"zip_code\":98116,\"price\":2200000.0},\"154\":{\"beds\":2,\"baths\":2.0,\"size\":840.0,\"size_units\":\"sqft\",\"lot_size\":1400.0,\"lot_size_units\":\"sqft\",\"zip_code\":98116,\"price\":645000.0},\"155\":{\"beds\":1,\"baths\":1.0,\"size\":588.0,\"size_units\":\"sqft\",\"lot_size\":0.37,\"lot_size_units\":\"acre\",\"zip_code\":98103,\"price\":335000.0},\"156\":{\"beds\":4,\"baths\":2.5,\"size\":3480.0,\"size_units\":\"sqft\",\"lot_size\":5043.0,\"lot_size_units\":\"sqft\",\"zip_code\":98103,\"price\":2150000.0},\"157\":{\"beds\":2,\"baths\":1.5,\"size\":1065.0,\"size_units\":\"sqft\",\"lot_size\":1138.0,\"lot_size_units\":\"sqft\",\"zip_code\":98117,\"price\":850000.0},\"158\":{\"beds\":2,\"baths\":1.5,\"size\":917.0,\"size_units\":\"sqft\",\"lot_size\":5000.0,\"lot_size_units\":\"sqft\",\"zip_code\":98103,\"price\":625000.0},\"159\":{\"beds\":1,\"baths\":1.0,\"size\":603.0,\"size_units\":\"sqft\",\"lot_size\":null,\"lot_size_units\":null,\"zip_code\":98121,\"price\":450000.0},\"160\":{\"beds\":1,\"baths\":1.0,\"size\":704.0,\"size_units\":\"sqft\",\"lot_size\":null,\"lot_size_units\":null,\"zip_code\":98133,\"price\":278000.0},\"161\":{\"beds\":2,\"baths\":2.5,\"size\":2140.0,\"size_units\":\"sqft\",\"lot_size\":983.0,\"lot_size_units\":\"sqft\",\"zip_code\":98109,\"price\":835000.0},\"162\":{\"beds\":2,\"baths\":1.5,\"size\":1059.0,\"size_units\":\"sqft\",\"lot_size\":4001.0,\"lot_size_units\":\"sqft\",\"zip_code\":98106,\"price\":499000.0},\"163\":{\"beds\":3,\"baths\":2.0,\"size\":1500.0,\"size_units\":\"sqft\",\"lot_size\":4500.0,\"lot_size_units\":\"sqft\",\"zip_code\":98107,\"price\":905000.0},\"164\":{\"beds\":2,\"baths\":2.0,\"size\":1271.0,\"size_units\":\"sqft\",\"lot_size\":null,\"lot_size_units\":null,\"zip_code\":98107,\"price\":725000.0},\"165\":{\"beds\":1,\"baths\":1.0,\"size\":862.0,\"size_units\":\"sqft\",\"lot_size\":null,\"lot_size_units\":null,\"zip_code\":98104,\"price\":430000.0},\"166\":{\"beds\":2,\"baths\":1.0,\"size\":1660.0,\"size_units\":\"sqft\",\"lot_size\":6380.0,\"lot_size_units\":\"sqft\",\"zip_code\":98115,\"price\":822000.0},\"167\":{\"beds\":3,\"baths\":2.5,\"size\":1360.0,\"size_units\":\"sqft\",\"lot_size\":1001.0,\"lot_size_units\":\"sqft\",\"zip_code\":98144,\"price\":719950.0},\"168\":{\"beds\":2,\"baths\":2.0,\"size\":1345.0,\"size_units\":\"sqft\",\"lot_size\":null,\"lot_size_units\":null,\"zip_code\":98119,\"price\":700000.0},\"169\":{\"beds\":4,\"baths\":3.5,\"size\":3500.0,\"size_units\":\"sqft\",\"lot_size\":4080.0,\"lot_size_units\":\"sqft\",\"zip_code\":98115,\"price\":1720000.0},\"170\":{\"beds\":2,\"baths\":1.0,\"size\":1070.0,\"size_units\":\"sqft\",\"lot_size\":7620.0,\"lot_size_units\":\"sqft\",\"zip_code\":98106,\"price\":520000.0},\"171\":{\"beds\":4,\"baths\":5.5,\"size\":2867.0,\"size_units\":\"sqft\",\"lot_size\":4550.0,\"lot_size_units\":\"sqft\",\"zip_code\":98122,\"price\":1650000.0},\"172\":{\"beds\":4,\"baths\":2.5,\"size\":2230.0,\"size_units\":\"sqft\",\"lot_size\":5878.0,\"lot_size_units\":\"sqft\",\"zip_code\":98115,\"price\":1475000.0},\"173\":{\"beds\":2,\"baths\":1.5,\"size\":900.0,\"size_units\":\"sqft\",\"lot_size\":null,\"lot_size_units\":null,\"zip_code\":98133,\"price\":549755.0},\"174\":{\"beds\":3,\"baths\":1.5,\"size\":1892.0,\"size_units\":\"sqft\",\"lot_size\":1.08,\"lot_size_units\":\"acre\",\"zip_code\":98112,\"price\":692500.0},\"175\":{\"beds\":2,\"baths\":2.0,\"size\":921.0,\"size_units\":\"sqft\",\"lot_size\":null,\"lot_size_units\":null,\"zip_code\":98121,\"price\":675000.0},\"176\":{\"beds\":4,\"baths\":3.0,\"size\":2580.0,\"size_units\":\"sqft\",\"lot_size\":7200.0,\"lot_size_units\":\"sqft\",\"zip_code\":98118,\"price\":1025000.0},\"177\":{\"beds\":3,\"baths\":2.5,\"size\":2720.0,\"size_units\":\"sqft\",\"lot_size\":4609.0,\"lot_size_units\":\"sqft\",\"zip_code\":98103,\"price\":1450000.0},\"178\":{\"beds\":3,\"baths\":3.0,\"size\":2290.0,\"size_units\":\"sqft\",\"lot_size\":3000.0,\"lot_size_units\":\"sqft\",\"zip_code\":98103,\"price\":1108000.0},\"179\":{\"beds\":3,\"baths\":2.5,\"size\":2750.0,\"size_units\":\"sqft\",\"lot_size\":3750.0,\"lot_size_units\":\"sqft\",\"zip_code\":98103,\"price\":1300000.0},\"180\":{\"beds\":3,\"baths\":1.0,\"size\":1100.0,\"size_units\":\"sqft\",\"lot_size\":6000.0,\"lot_size_units\":\"sqft\",\"zip_code\":98108,\"price\":505000.0},\"181\":{\"beds\":5,\"baths\":5.0,\"size\":2260.0,\"size_units\":\"sqft\",\"lot_size\":6175.0,\"lot_size_units\":\"sqft\",\"zip_code\":98115,\"price\":2100000.0},\"182\":{\"beds\":4,\"baths\":3.5,\"size\":2970.0,\"size_units\":\"sqft\",\"lot_size\":5323.0,\"lot_size_units\":\"sqft\",\"zip_code\":98199,\"price\":2334500.0},\"183\":{\"beds\":4,\"baths\":2.0,\"size\":1840.0,\"size_units\":\"sqft\",\"lot_size\":7335.0,\"lot_size_units\":\"sqft\",\"zip_code\":98108,\"price\":640000.0},\"184\":{\"beds\":4,\"baths\":3.0,\"size\":3510.0,\"size_units\":\"sqft\",\"lot_size\":8268.0,\"lot_size_units\":\"sqft\",\"zip_code\":98122,\"price\":1550000.0},\"185\":{\"beds\":2,\"baths\":2.0,\"size\":916.0,\"size_units\":\"sqft\",\"lot_size\":null,\"lot_size_units\":null,\"zip_code\":98109,\"price\":545000.0},\"186\":{\"beds\":2,\"baths\":2.0,\"size\":1162.0,\"size_units\":\"sqft\",\"lot_size\":null,\"lot_size_units\":null,\"zip_code\":98102,\"price\":730000.0},\"187\":{\"beds\":3,\"baths\":2.0,\"size\":2330.0,\"size_units\":\"sqft\",\"lot_size\":5000.0,\"lot_size_units\":\"sqft\",\"zip_code\":98117,\"price\":1160000.0},\"188\":{\"beds\":1,\"baths\":1.0,\"size\":848.0,\"size_units\":\"sqft\",\"lot_size\":null,\"lot_size_units\":null,\"zip_code\":98107,\"price\":575000.0},\"189\":{\"beds\":2,\"baths\":2.0,\"size\":1320.0,\"size_units\":\"sqft\",\"lot_size\":5000.0,\"lot_size_units\":\"sqft\",\"zip_code\":98117,\"price\":841000.0},\"190\":{\"beds\":2,\"baths\":1.0,\"size\":770.0,\"size_units\":\"sqft\",\"lot_size\":8604.0,\"lot_size_units\":\"sqft\",\"zip_code\":98118,\"price\":250000.0},\"191\":{\"beds\":4,\"baths\":3.5,\"size\":3140.0,\"size_units\":\"sqft\",\"lot_size\":3751.0,\"lot_size_units\":\"sqft\",\"zip_code\":98117,\"price\":1825000.0},\"192\":{\"beds\":3,\"baths\":2.0,\"size\":1360.0,\"size_units\":\"sqft\",\"lot_size\":6656.0,\"lot_size_units\":\"sqft\",\"zip_code\":98115,\"price\":935000.0},\"193\":{\"beds\":2,\"baths\":1.0,\"size\":960.0,\"size_units\":\"sqft\",\"lot_size\":8057.0,\"lot_size_units\":\"sqft\",\"zip_code\":98199,\"price\":515000.0},\"194\":{\"beds\":4,\"baths\":1.0,\"size\":1080.0,\"size_units\":\"sqft\",\"lot_size\":6755.0,\"lot_size_units\":\"sqft\",\"zip_code\":98118,\"price\":565000.0},\"195\":{\"beds\":4,\"baths\":3.0,\"size\":2360.0,\"size_units\":\"sqft\",\"lot_size\":9130.0,\"lot_size_units\":\"sqft\",\"zip_code\":98136,\"price\":1100000.0},\"196\":{\"beds\":3,\"baths\":2.0,\"size\":1550.0,\"size_units\":\"sqft\",\"lot_size\":795.0,\"lot_size_units\":\"sqft\",\"zip_code\":98199,\"price\":699000.0},\"197\":{\"beds\":1,\"baths\":1.0,\"size\":376.0,\"size_units\":\"sqft\",\"lot_size\":0.23,\"lot_size_units\":\"acre\",\"zip_code\":98199,\"price\":1000000.0},\"198\":{\"beds\":1,\"baths\":1.0,\"size\":722.0,\"size_units\":\"sqft\",\"lot_size\":null,\"lot_size_units\":null,\"zip_code\":98118,\"price\":299000.0},\"199\":{\"beds\":2,\"baths\":1.0,\"size\":790.0,\"size_units\":\"sqft\",\"lot_size\":null,\"lot_size_units\":null,\"zip_code\":98103,\"price\":615000.0},\"200\":{\"beds\":3,\"baths\":2.5,\"size\":1600.0,\"size_units\":\"sqft\",\"lot_size\":1056.0,\"lot_size_units\":\"sqft\",\"zip_code\":98103,\"price\":1150000.0},\"201\":{\"beds\":2,\"baths\":2.0,\"size\":1338.0,\"size_units\":\"sqft\",\"lot_size\":null,\"lot_size_units\":null,\"zip_code\":98119,\"price\":700000.0},\"202\":{\"beds\":3,\"baths\":1.0,\"size\":1240.0,\"size_units\":\"sqft\",\"lot_size\":6240.0,\"lot_size_units\":\"sqft\",\"zip_code\":98133,\"price\":715000.0},\"203\":{\"beds\":2,\"baths\":2.5,\"size\":1400.0,\"size_units\":\"sqft\",\"lot_size\":824.0,\"lot_size_units\":\"sqft\",\"zip_code\":98102,\"price\":1062500.0},\"204\":{\"beds\":1,\"baths\":1.0,\"size\":602.0,\"size_units\":\"sqft\",\"lot_size\":null,\"lot_size_units\":null,\"zip_code\":98144,\"price\":374000.0},\"205\":{\"beds\":4,\"baths\":3.5,\"size\":4120.0,\"size_units\":\"sqft\",\"lot_size\":6950.0,\"lot_size_units\":\"sqft\",\"zip_code\":98178,\"price\":1209000.0},\"206\":{\"beds\":4,\"baths\":2.0,\"size\":1780.0,\"size_units\":\"sqft\",\"lot_size\":3650.0,\"lot_size_units\":\"sqft\",\"zip_code\":98117,\"price\":965000.0},\"207\":{\"beds\":2,\"baths\":2.0,\"size\":2270.0,\"size_units\":\"sqft\",\"lot_size\":6885.0,\"lot_size_units\":\"sqft\",\"zip_code\":98125,\"price\":900000.0},\"208\":{\"beds\":3,\"baths\":1.5,\"size\":1550.0,\"size_units\":\"sqft\",\"lot_size\":7628.0,\"lot_size_units\":\"sqft\",\"zip_code\":98133,\"price\":699950.0},\"209\":{\"beds\":3,\"baths\":2.0,\"size\":1281.0,\"size_units\":\"sqft\",\"lot_size\":625.0,\"lot_size_units\":\"sqft\",\"zip_code\":98136,\"price\":670000.0},\"210\":{\"beds\":3,\"baths\":2.5,\"size\":2760.0,\"size_units\":\"sqft\",\"lot_size\":6003.0,\"lot_size_units\":\"sqft\",\"zip_code\":98115,\"price\":1565000.0},\"211\":{\"beds\":2,\"baths\":2.5,\"size\":2030.0,\"size_units\":\"sqft\",\"lot_size\":7500.0,\"lot_size_units\":\"sqft\",\"zip_code\":98136,\"price\":1200000.0},\"212\":{\"beds\":4,\"baths\":2.5,\"size\":2210.0,\"size_units\":\"sqft\",\"lot_size\":5750.0,\"lot_size_units\":\"sqft\",\"zip_code\":98116,\"price\":1225000.0},\"213\":{\"beds\":4,\"baths\":3.5,\"size\":2023.0,\"size_units\":\"sqft\",\"lot_size\":3096.0,\"lot_size_units\":\"sqft\",\"zip_code\":98122,\"price\":1325000.0},\"214\":{\"beds\":1,\"baths\":1.0,\"size\":589.0,\"size_units\":\"sqft\",\"lot_size\":null,\"lot_size_units\":null,\"zip_code\":98125,\"price\":262000.0},\"215\":{\"beds\":3,\"baths\":2.5,\"size\":2710.0,\"size_units\":\"sqft\",\"lot_size\":6840.0,\"lot_size_units\":\"sqft\",\"zip_code\":98178,\"price\":880000.0},\"216\":{\"beds\":1,\"baths\":1.0,\"size\":676.0,\"size_units\":\"sqft\",\"lot_size\":null,\"lot_size_units\":null,\"zip_code\":98117,\"price\":355000.0},\"217\":{\"beds\":2,\"baths\":1.0,\"size\":1640.0,\"size_units\":\"sqft\",\"lot_size\":2200.0,\"lot_size_units\":\"sqft\",\"zip_code\":98103,\"price\":740000.0},\"218\":{\"beds\":4,\"baths\":2.5,\"size\":2020.0,\"size_units\":\"sqft\",\"lot_size\":7280.0,\"lot_size_units\":\"sqft\",\"zip_code\":98133,\"price\":903000.0},\"219\":{\"beds\":3,\"baths\":3.0,\"size\":2080.0,\"size_units\":\"sqft\",\"lot_size\":4720.0,\"lot_size_units\":\"sqft\",\"zip_code\":98126,\"price\":819000.0},\"220\":{\"beds\":3,\"baths\":3.0,\"size\":2000.0,\"size_units\":\"sqft\",\"lot_size\":3210.0,\"lot_size_units\":\"sqft\",\"zip_code\":98103,\"price\":990000.0},\"221\":{\"beds\":2,\"baths\":1.0,\"size\":740.0,\"size_units\":\"sqft\",\"lot_size\":6300.0,\"lot_size_units\":\"sqft\",\"zip_code\":98126,\"price\":390000.0},\"222\":{\"beds\":2,\"baths\":1.0,\"size\":987.0,\"size_units\":\"sqft\",\"lot_size\":null,\"lot_size_units\":null,\"zip_code\":98103,\"price\":660000.0},\"223\":{\"beds\":7,\"baths\":4.0,\"size\":2540.0,\"size_units\":\"sqft\",\"lot_size\":3000.0,\"lot_size_units\":\"sqft\",\"zip_code\":98103,\"price\":730000.0},\"224\":{\"beds\":3,\"baths\":2.5,\"size\":1690.0,\"size_units\":\"sqft\",\"lot_size\":3264.0,\"lot_size_units\":\"sqft\",\"zip_code\":98126,\"price\":780000.0},\"225\":{\"beds\":4,\"baths\":2.5,\"size\":3190.0,\"size_units\":\"sqft\",\"lot_size\":4700.0,\"lot_size_units\":\"sqft\",\"zip_code\":98144,\"price\":869000.0},\"226\":{\"beds\":4,\"baths\":1.0,\"size\":1610.0,\"size_units\":\"sqft\",\"lot_size\":7200.0,\"lot_size_units\":\"sqft\",\"zip_code\":98144,\"price\":885000.0},\"227\":{\"beds\":3,\"baths\":2.5,\"size\":2130.0,\"size_units\":\"sqft\",\"lot_size\":3100.0,\"lot_size_units\":\"sqft\",\"zip_code\":98115,\"price\":930000.0},\"228\":{\"beds\":3,\"baths\":2.5,\"size\":1480.0,\"size_units\":\"sqft\",\"lot_size\":5183.0,\"lot_size_units\":\"sqft\",\"zip_code\":98115,\"price\":890000.0},\"229\":{\"beds\":3,\"baths\":3.5,\"size\":1430.0,\"size_units\":\"sqft\",\"lot_size\":1200.0,\"lot_size_units\":\"sqft\",\"zip_code\":98112,\"price\":1000000.0},\"230\":{\"beds\":1,\"baths\":1.0,\"size\":782.0,\"size_units\":\"sqft\",\"lot_size\":0.59,\"lot_size_units\":\"acre\",\"zip_code\":98121,\"price\":515000.0},\"231\":{\"beds\":5,\"baths\":2.0,\"size\":2800.0,\"size_units\":\"sqft\",\"lot_size\":0.41,\"lot_size_units\":\"acre\",\"zip_code\":98118,\"price\":1210000.0},\"232\":{\"beds\":4,\"baths\":2.5,\"size\":3530.0,\"size_units\":\"sqft\",\"lot_size\":6000.0,\"lot_size_units\":\"sqft\",\"zip_code\":98115,\"price\":1100000.0},\"233\":{\"beds\":3,\"baths\":2.0,\"size\":2160.0,\"size_units\":\"sqft\",\"lot_size\":4313.0,\"lot_size_units\":\"sqft\",\"zip_code\":98125,\"price\":720000.0},\"234\":{\"beds\":3,\"baths\":2.0,\"size\":2010.0,\"size_units\":\"sqft\",\"lot_size\":5618.0,\"lot_size_units\":\"sqft\",\"zip_code\":98146,\"price\":850000.0},\"235\":{\"beds\":5,\"baths\":3.5,\"size\":2527.0,\"size_units\":\"sqft\",\"lot_size\":3217.0,\"lot_size_units\":\"sqft\",\"zip_code\":98178,\"price\":1023000.0},\"236\":{\"beds\":1,\"baths\":1.0,\"size\":605.0,\"size_units\":\"sqft\",\"lot_size\":3.54,\"lot_size_units\":\"acre\",\"zip_code\":98105,\"price\":270000.0},\"237\":{\"beds\":5,\"baths\":3.5,\"size\":3080.0,\"size_units\":\"sqft\",\"lot_size\":3600.0,\"lot_size_units\":\"sqft\",\"zip_code\":98119,\"price\":2125000.0},\"238\":{\"beds\":3,\"baths\":2.5,\"size\":2963.0,\"size_units\":\"sqft\",\"lot_size\":0.31,\"lot_size_units\":\"acre\",\"zip_code\":98177,\"price\":1480000.0},\"239\":{\"beds\":3,\"baths\":2.0,\"size\":1939.0,\"size_units\":\"sqft\",\"lot_size\":4949.0,\"lot_size_units\":\"sqft\",\"zip_code\":98119,\"price\":1450000.0},\"240\":{\"beds\":3,\"baths\":1.5,\"size\":2280.0,\"size_units\":\"sqft\",\"lot_size\":5400.0,\"lot_size_units\":\"sqft\",\"zip_code\":98119,\"price\":1610000.0},\"241\":{\"beds\":6,\"baths\":3.0,\"size\":2870.0,\"size_units\":\"sqft\",\"lot_size\":3761.0,\"lot_size_units\":\"sqft\",\"zip_code\":98105,\"price\":1030000.0},\"242\":{\"beds\":6,\"baths\":5.0,\"size\":3910.0,\"size_units\":\"sqft\",\"lot_size\":9614.0,\"lot_size_units\":\"sqft\",\"zip_code\":98108,\"price\":1300000.0},\"243\":{\"beds\":4,\"baths\":3.0,\"size\":1999.0,\"size_units\":\"sqft\",\"lot_size\":800.0,\"lot_size_units\":\"sqft\",\"zip_code\":98102,\"price\":1350000.0},\"244\":{\"beds\":2,\"baths\":1.5,\"size\":1388.0,\"size_units\":\"sqft\",\"lot_size\":null,\"lot_size_units\":null,\"zip_code\":98122,\"price\":599000.0},\"245\":{\"beds\":7,\"baths\":4.0,\"size\":2670.0,\"size_units\":\"sqft\",\"lot_size\":4183.0,\"lot_size_units\":\"sqft\",\"zip_code\":98105,\"price\":845000.0},\"246\":{\"beds\":2,\"baths\":2.0,\"size\":1810.0,\"size_units\":\"sqft\",\"lot_size\":9120.0,\"lot_size_units\":\"sqft\",\"zip_code\":98136,\"price\":699000.0},\"247\":{\"beds\":3,\"baths\":2.5,\"size\":1681.0,\"size_units\":\"sqft\",\"lot_size\":3.97,\"lot_size_units\":\"acre\",\"zip_code\":98126,\"price\":610000.0},\"248\":{\"beds\":3,\"baths\":2.5,\"size\":1512.0,\"size_units\":\"sqft\",\"lot_size\":1119.0,\"lot_size_units\":\"sqft\",\"zip_code\":98144,\"price\":755000.0},\"249\":{\"beds\":2,\"baths\":2.0,\"size\":1090.0,\"size_units\":\"sqft\",\"lot_size\":0.92,\"lot_size_units\":\"acre\",\"zip_code\":98168,\"price\":327000.0},\"250\":{\"beds\":1,\"baths\":1.0,\"size\":726.0,\"size_units\":\"sqft\",\"lot_size\":0.65,\"lot_size_units\":\"acre\",\"zip_code\":98121,\"price\":448900.0},\"251\":{\"beds\":3,\"baths\":2.0,\"size\":1444.0,\"size_units\":\"sqft\",\"lot_size\":675.0,\"lot_size_units\":\"sqft\",\"zip_code\":98144,\"price\":750000.0},\"252\":{\"beds\":4,\"baths\":2.5,\"size\":2658.0,\"size_units\":\"sqft\",\"lot_size\":5038.0,\"lot_size_units\":\"sqft\",\"zip_code\":98136,\"price\":1375888.0},\"253\":{\"beds\":2,\"baths\":1.5,\"size\":1200.0,\"size_units\":\"sqft\",\"lot_size\":1271.0,\"lot_size_units\":\"sqft\",\"zip_code\":98107,\"price\":730000.0},\"254\":{\"beds\":5,\"baths\":2.5,\"size\":2280.0,\"size_units\":\"sqft\",\"lot_size\":7574.0,\"lot_size_units\":\"sqft\",\"zip_code\":98168,\"price\":680000.0},\"255\":{\"beds\":4,\"baths\":2.5,\"size\":2750.0,\"size_units\":\"sqft\",\"lot_size\":2250.0,\"lot_size_units\":\"sqft\",\"zip_code\":98122,\"price\":849995.0},\"256\":{\"beds\":3,\"baths\":1.5,\"size\":1650.0,\"size_units\":\"sqft\",\"lot_size\":3150.0,\"lot_size_units\":\"sqft\",\"zip_code\":98122,\"price\":790000.0},\"257\":{\"beds\":3,\"baths\":2.5,\"size\":1546.0,\"size_units\":\"sqft\",\"lot_size\":1600.0,\"lot_size_units\":\"sqft\",\"zip_code\":98106,\"price\":720000.0},\"258\":{\"beds\":1,\"baths\":1.0,\"size\":757.0,\"size_units\":\"sqft\",\"lot_size\":null,\"lot_size_units\":null,\"zip_code\":98109,\"price\":432500.0},\"259\":{\"beds\":5,\"baths\":3.5,\"size\":4385.0,\"size_units\":\"sqft\",\"lot_size\":4950.0,\"lot_size_units\":\"sqft\",\"zip_code\":98103,\"price\":3100000.0},\"260\":{\"beds\":4,\"baths\":2.0,\"size\":2868.0,\"size_units\":\"sqft\",\"lot_size\":5250.0,\"lot_size_units\":\"sqft\",\"zip_code\":98103,\"price\":1550000.0},\"261\":{\"beds\":2,\"baths\":2.0,\"size\":1280.0,\"size_units\":\"sqft\",\"lot_size\":5000.0,\"lot_size_units\":\"sqft\",\"zip_code\":98136,\"price\":875000.0},\"262\":{\"beds\":3,\"baths\":2.0,\"size\":1279.0,\"size_units\":\"sqft\",\"lot_size\":4400.0,\"lot_size_units\":\"sqft\",\"zip_code\":98118,\"price\":699000.0},\"263\":{\"beds\":4,\"baths\":2.0,\"size\":2278.0,\"size_units\":\"sqft\",\"lot_size\":5080.0,\"lot_size_units\":\"sqft\",\"zip_code\":98117,\"price\":1550000.0},\"264\":{\"beds\":1,\"baths\":1.0,\"size\":376.0,\"size_units\":\"sqft\",\"lot_size\":0.23,\"lot_size_units\":\"acre\",\"zip_code\":98199,\"price\":1000000.0},\"265\":{\"beds\":3,\"baths\":2.0,\"size\":1496.0,\"size_units\":\"sqft\",\"lot_size\":1.0,\"lot_size_units\":\"acre\",\"zip_code\":98144,\"price\":843000.0},\"266\":{\"beds\":4,\"baths\":1.0,\"size\":2520.0,\"size_units\":\"sqft\",\"lot_size\":7475.0,\"lot_size_units\":\"sqft\",\"zip_code\":98115,\"price\":875000.0},\"267\":{\"beds\":2,\"baths\":2.0,\"size\":795.0,\"size_units\":\"sqft\",\"lot_size\":null,\"lot_size_units\":null,\"zip_code\":98102,\"price\":550000.0},\"268\":{\"beds\":3,\"baths\":3.0,\"size\":2502.0,\"size_units\":\"sqft\",\"lot_size\":6401.0,\"lot_size_units\":\"sqft\",\"zip_code\":98117,\"price\":995000.0},\"269\":{\"beds\":5,\"baths\":5.0,\"size\":2920.0,\"size_units\":\"sqft\",\"lot_size\":4000.0,\"lot_size_units\":\"sqft\",\"zip_code\":98105,\"price\":1625000.0},\"270\":{\"beds\":2,\"baths\":2.0,\"size\":1130.0,\"size_units\":\"sqft\",\"lot_size\":622.0,\"lot_size_units\":\"sqft\",\"zip_code\":98119,\"price\":775000.0},\"271\":{\"beds\":2,\"baths\":2.0,\"size\":1310.0,\"size_units\":\"sqft\",\"lot_size\":586.0,\"lot_size_units\":\"sqft\",\"zip_code\":98122,\"price\":815000.0},\"272\":{\"beds\":5,\"baths\":4.5,\"size\":4060.0,\"size_units\":\"sqft\",\"lot_size\":8100.0,\"lot_size_units\":\"sqft\",\"zip_code\":98117,\"price\":2095000.0},\"273\":{\"beds\":4,\"baths\":3.5,\"size\":4460.0,\"size_units\":\"sqft\",\"lot_size\":1.66,\"lot_size_units\":\"acre\",\"zip_code\":98177,\"price\":2550000.0},\"274\":{\"beds\":4,\"baths\":2.0,\"size\":2350.0,\"size_units\":\"sqft\",\"lot_size\":6950.0,\"lot_size_units\":\"sqft\",\"zip_code\":98118,\"price\":715000.0},\"275\":{\"beds\":2,\"baths\":3.0,\"size\":1230.0,\"size_units\":\"sqft\",\"lot_size\":null,\"lot_size_units\":null,\"zip_code\":98144,\"price\":619990.0},\"276\":{\"beds\":4,\"baths\":2.5,\"size\":2420.0,\"size_units\":\"sqft\",\"lot_size\":6590.0,\"lot_size_units\":\"sqft\",\"zip_code\":98117,\"price\":1310000.0},\"277\":{\"beds\":2,\"baths\":2.0,\"size\":1570.0,\"size_units\":\"sqft\",\"lot_size\":6000.0,\"lot_size_units\":\"sqft\",\"zip_code\":98136,\"price\":760000.0},\"278\":{\"beds\":1,\"baths\":1.0,\"size\":608.0,\"size_units\":\"sqft\",\"lot_size\":0.68,\"lot_size_units\":\"acre\",\"zip_code\":98121,\"price\":423000.0},\"279\":{\"beds\":3,\"baths\":1.0,\"size\":1950.0,\"size_units\":\"sqft\",\"lot_size\":2584.0,\"lot_size_units\":\"sqft\",\"zip_code\":98103,\"price\":925000.0},\"280\":{\"beds\":4,\"baths\":5.5,\"size\":4670.0,\"size_units\":\"sqft\",\"lot_size\":7635.0,\"lot_size_units\":\"sqft\",\"zip_code\":98144,\"price\":3175000.0},\"281\":{\"beds\":1,\"baths\":1.0,\"size\":647.0,\"size_units\":\"sqft\",\"lot_size\":null,\"lot_size_units\":null,\"zip_code\":98122,\"price\":485000.0},\"282\":{\"beds\":3,\"baths\":2.0,\"size\":1140.0,\"size_units\":\"sqft\",\"lot_size\":3028.0,\"lot_size_units\":\"sqft\",\"zip_code\":98136,\"price\":780000.0},\"283\":{\"beds\":3,\"baths\":3.0,\"size\":2240.0,\"size_units\":\"sqft\",\"lot_size\":6700.0,\"lot_size_units\":\"sqft\",\"zip_code\":98117,\"price\":650000.0},\"284\":{\"beds\":2,\"baths\":2.0,\"size\":1061.0,\"size_units\":\"sqft\",\"lot_size\":null,\"lot_size_units\":null,\"zip_code\":98125,\"price\":380000.0},\"285\":{\"beds\":4,\"baths\":3.0,\"size\":1991.0,\"size_units\":\"sqft\",\"lot_size\":806.0,\"lot_size_units\":\"sqft\",\"zip_code\":98102,\"price\":1050000.0},\"286\":{\"beds\":3,\"baths\":2.5,\"size\":1940.0,\"size_units\":\"sqft\",\"lot_size\":5962.0,\"lot_size_units\":\"sqft\",\"zip_code\":98116,\"price\":1172000.0},\"287\":{\"beds\":2,\"baths\":1.5,\"size\":2340.0,\"size_units\":\"sqft\",\"lot_size\":6705.0,\"lot_size_units\":\"sqft\",\"zip_code\":98199,\"price\":1025000.0},\"288\":{\"beds\":4,\"baths\":5.0,\"size\":1870.0,\"size_units\":\"sqft\",\"lot_size\":7980.0,\"lot_size_units\":\"sqft\",\"zip_code\":98146,\"price\":700000.0},\"289\":{\"beds\":1,\"baths\":1.0,\"size\":707.0,\"size_units\":\"sqft\",\"lot_size\":null,\"lot_size_units\":null,\"zip_code\":98133,\"price\":335000.0},\"290\":{\"beds\":2,\"baths\":2.5,\"size\":1114.0,\"size_units\":\"sqft\",\"lot_size\":2450.0,\"lot_size_units\":\"sqft\",\"zip_code\":98122,\"price\":850000.0},\"291\":{\"beds\":5,\"baths\":3.0,\"size\":3540.0,\"size_units\":\"sqft\",\"lot_size\":0.25,\"lot_size_units\":\"acre\",\"zip_code\":98115,\"price\":1185000.0},\"292\":{\"beds\":4,\"baths\":2.0,\"size\":2610.0,\"size_units\":\"sqft\",\"lot_size\":0.25,\"lot_size_units\":\"acre\",\"zip_code\":98117,\"price\":875000.0},\"293\":{\"beds\":2,\"baths\":2.0,\"size\":1250.0,\"size_units\":\"sqft\",\"lot_size\":8331.0,\"lot_size_units\":\"sqft\",\"zip_code\":98115,\"price\":850000.0},\"294\":{\"beds\":3,\"baths\":2.0,\"size\":1920.0,\"size_units\":\"sqft\",\"lot_size\":6250.0,\"lot_size_units\":\"sqft\",\"zip_code\":98126,\"price\":980000.0},\"295\":{\"beds\":3,\"baths\":2.5,\"size\":1540.0,\"size_units\":\"sqft\",\"lot_size\":1116.0,\"lot_size_units\":\"sqft\",\"zip_code\":98103,\"price\":875000.0},\"296\":{\"beds\":3,\"baths\":2.0,\"size\":1460.0,\"size_units\":\"sqft\",\"lot_size\":2500.0,\"lot_size_units\":\"sqft\",\"zip_code\":98117,\"price\":823000.0},\"297\":{\"beds\":2,\"baths\":2.0,\"size\":1223.0,\"size_units\":\"sqft\",\"lot_size\":780.0,\"lot_size_units\":\"sqft\",\"zip_code\":98199,\"price\":787950.0},\"298\":{\"beds\":3,\"baths\":2.5,\"size\":2450.0,\"size_units\":\"sqft\",\"lot_size\":5000.0,\"lot_size_units\":\"sqft\",\"zip_code\":98126,\"price\":1080000.0},\"299\":{\"beds\":1,\"baths\":1.0,\"size\":702.0,\"size_units\":\"sqft\",\"lot_size\":0.27,\"lot_size_units\":\"acre\",\"zip_code\":98116,\"price\":426000.0},\"300\":{\"beds\":5,\"baths\":3.0,\"size\":2170.0,\"size_units\":\"sqft\",\"lot_size\":2752.0,\"lot_size_units\":\"sqft\",\"zip_code\":98106,\"price\":765000.0},\"301\":{\"beds\":2,\"baths\":1.0,\"size\":1040.0,\"size_units\":\"sqft\",\"lot_size\":4500.0,\"lot_size_units\":\"sqft\",\"zip_code\":98103,\"price\":875000.0},\"302\":{\"beds\":4,\"baths\":2.0,\"size\":1670.0,\"size_units\":\"sqft\",\"lot_size\":9800.0,\"lot_size_units\":\"sqft\",\"zip_code\":98125,\"price\":960000.0},\"303\":{\"beds\":4,\"baths\":3.0,\"size\":2140.0,\"size_units\":\"sqft\",\"lot_size\":5400.0,\"lot_size_units\":\"sqft\",\"zip_code\":98126,\"price\":805000.0},\"304\":{\"beds\":3,\"baths\":2.5,\"size\":1650.0,\"size_units\":\"sqft\",\"lot_size\":1485.0,\"lot_size_units\":\"sqft\",\"zip_code\":98103,\"price\":975000.0},\"305\":{\"beds\":2,\"baths\":1.5,\"size\":735.0,\"size_units\":\"sqft\",\"lot_size\":7688.0,\"lot_size_units\":\"sqft\",\"zip_code\":98103,\"price\":353500.0},\"306\":{\"beds\":4,\"baths\":3.5,\"size\":3210.0,\"size_units\":\"sqft\",\"lot_size\":8919.0,\"lot_size_units\":\"sqft\",\"zip_code\":98136,\"price\":1750000.0},\"307\":{\"beds\":4,\"baths\":1.0,\"size\":2920.0,\"size_units\":\"sqft\",\"lot_size\":4820.0,\"lot_size_units\":\"sqft\",\"zip_code\":98107,\"price\":899888.0},\"308\":{\"beds\":4,\"baths\":4.0,\"size\":1240.0,\"size_units\":\"sqft\",\"lot_size\":3867.0,\"lot_size_units\":\"sqft\",\"zip_code\":98125,\"price\":750000.0},\"309\":{\"beds\":4,\"baths\":2.5,\"size\":2030.0,\"size_units\":\"sqft\",\"lot_size\":1744.0,\"lot_size_units\":\"sqft\",\"zip_code\":98144,\"price\":1025000.0},\"310\":{\"beds\":2,\"baths\":1.0,\"size\":1480.0,\"size_units\":\"sqft\",\"lot_size\":4400.0,\"lot_size_units\":\"sqft\",\"zip_code\":98118,\"price\":675000.0},\"311\":{\"beds\":2,\"baths\":2.0,\"size\":933.0,\"size_units\":\"sqft\",\"lot_size\":null,\"lot_size_units\":null,\"zip_code\":98112,\"price\":865000.0},\"312\":{\"beds\":1,\"baths\":1.0,\"size\":777.0,\"size_units\":\"sqft\",\"lot_size\":null,\"lot_size_units\":null,\"zip_code\":98146,\"price\":244950.0},\"313\":{\"beds\":5,\"baths\":3.0,\"size\":2869.0,\"size_units\":\"sqft\",\"lot_size\":7930.0,\"lot_size_units\":\"sqft\",\"zip_code\":98125,\"price\":967000.0},\"314\":{\"beds\":3,\"baths\":2.0,\"size\":1700.0,\"size_units\":\"sqft\",\"lot_size\":5750.0,\"lot_size_units\":\"sqft\",\"zip_code\":98126,\"price\":835000.0},\"315\":{\"beds\":2,\"baths\":2.0,\"size\":1024.0,\"size_units\":\"sqft\",\"lot_size\":null,\"lot_size_units\":null,\"zip_code\":98115,\"price\":510000.0},\"316\":{\"beds\":3,\"baths\":2.5,\"size\":1550.0,\"size_units\":\"sqft\",\"lot_size\":1031.0,\"lot_size_units\":\"sqft\",\"zip_code\":98102,\"price\":840000.0},\"317\":{\"beds\":5,\"baths\":2.5,\"size\":2460.0,\"size_units\":\"sqft\",\"lot_size\":7216.0,\"lot_size_units\":\"sqft\",\"zip_code\":98125,\"price\":755000.0},\"318\":{\"beds\":2,\"baths\":2.0,\"size\":1170.0,\"size_units\":\"sqft\",\"lot_size\":638.0,\"lot_size_units\":\"sqft\",\"zip_code\":98122,\"price\":774950.0},\"319\":{\"beds\":2,\"baths\":1.0,\"size\":900.0,\"size_units\":\"sqft\",\"lot_size\":5250.0,\"lot_size_units\":\"sqft\",\"zip_code\":98199,\"price\":750000.0},\"320\":{\"beds\":3,\"baths\":2.5,\"size\":1210.0,\"size_units\":\"sqft\",\"lot_size\":1546.0,\"lot_size_units\":\"sqft\",\"zip_code\":98108,\"price\":565000.0},\"321\":{\"beds\":4,\"baths\":3.0,\"size\":3140.0,\"size_units\":\"sqft\",\"lot_size\":6604.0,\"lot_size_units\":\"sqft\",\"zip_code\":98144,\"price\":1750000.0},\"322\":{\"beds\":2,\"baths\":1.0,\"size\":798.0,\"size_units\":\"sqft\",\"lot_size\":null,\"lot_size_units\":null,\"zip_code\":98109,\"price\":370000.0},\"323\":{\"beds\":2,\"baths\":2.5,\"size\":1134.0,\"size_units\":\"sqft\",\"lot_size\":1.0,\"lot_size_units\":\"acre\",\"zip_code\":98118,\"price\":520000.0},\"324\":{\"beds\":2,\"baths\":2.5,\"size\":1954.0,\"size_units\":\"sqft\",\"lot_size\":1.0,\"lot_size_units\":\"acre\",\"zip_code\":98119,\"price\":1475000.0},\"325\":{\"beds\":3,\"baths\":3.5,\"size\":2946.0,\"size_units\":\"sqft\",\"lot_size\":1.0,\"lot_size_units\":\"acre\",\"zip_code\":98102,\"price\":6250000.0},\"326\":{\"beds\":1,\"baths\":1.5,\"size\":1244.0,\"size_units\":\"sqft\",\"lot_size\":null,\"lot_size_units\":null,\"zip_code\":98164,\"price\":970000.0},\"327\":{\"beds\":3,\"baths\":3.0,\"size\":1710.0,\"size_units\":\"sqft\",\"lot_size\":null,\"lot_size_units\":null,\"zip_code\":98133,\"price\":659000.0},\"328\":{\"beds\":3,\"baths\":2.5,\"size\":1440.0,\"size_units\":\"sqft\",\"lot_size\":1330.0,\"lot_size_units\":\"sqft\",\"zip_code\":98117,\"price\":750000.0},\"329\":{\"beds\":3,\"baths\":3.5,\"size\":1790.0,\"size_units\":\"sqft\",\"lot_size\":1800.0,\"lot_size_units\":\"sqft\",\"zip_code\":98144,\"price\":1027000.0},\"330\":{\"beds\":3,\"baths\":2.0,\"size\":2550.0,\"size_units\":\"sqft\",\"lot_size\":8253.0,\"lot_size_units\":\"sqft\",\"zip_code\":98178,\"price\":650000.0},\"331\":{\"beds\":2,\"baths\":2.0,\"size\":1940.0,\"size_units\":\"sqft\",\"lot_size\":4000.0,\"lot_size_units\":\"sqft\",\"zip_code\":98116,\"price\":1505000.0},\"332\":{\"beds\":5,\"baths\":2.0,\"size\":3080.0,\"size_units\":\"sqft\",\"lot_size\":6300.0,\"lot_size_units\":\"sqft\",\"zip_code\":98126,\"price\":772500.0},\"333\":{\"beds\":3,\"baths\":2.0,\"size\":1561.0,\"size_units\":\"sqft\",\"lot_size\":964.0,\"lot_size_units\":\"sqft\",\"zip_code\":98125,\"price\":670000.0},\"334\":{\"beds\":2,\"baths\":2.0,\"size\":1316.0,\"size_units\":\"sqft\",\"lot_size\":null,\"lot_size_units\":null,\"zip_code\":98101,\"price\":899000.0},\"335\":{\"beds\":4,\"baths\":2.5,\"size\":2610.0,\"size_units\":\"sqft\",\"lot_size\":3520.0,\"lot_size_units\":\"sqft\",\"zip_code\":98112,\"price\":1715000.0},\"336\":{\"beds\":3,\"baths\":1.0,\"size\":960.0,\"size_units\":\"sqft\",\"lot_size\":9000.0,\"lot_size_units\":\"sqft\",\"zip_code\":98117,\"price\":850000.0},\"337\":{\"beds\":3,\"baths\":3.0,\"size\":2280.0,\"size_units\":\"sqft\",\"lot_size\":7362.0,\"lot_size_units\":\"sqft\",\"zip_code\":98117,\"price\":1150000.0},\"338\":{\"beds\":2,\"baths\":2.0,\"size\":1930.0,\"size_units\":\"sqft\",\"lot_size\":4000.0,\"lot_size_units\":\"sqft\",\"zip_code\":98144,\"price\":900000.0},\"339\":{\"beds\":2,\"baths\":2.0,\"size\":1125.0,\"size_units\":\"sqft\",\"lot_size\":1.36,\"lot_size_units\":\"acre\",\"zip_code\":98115,\"price\":424950.0},\"340\":{\"beds\":3,\"baths\":2.0,\"size\":1699.0,\"size_units\":\"sqft\",\"lot_size\":null,\"lot_size_units\":null,\"zip_code\":98121,\"price\":1299000.0},\"341\":{\"beds\":1,\"baths\":1.0,\"size\":730.0,\"size_units\":\"sqft\",\"lot_size\":null,\"lot_size_units\":null,\"zip_code\":98115,\"price\":330000.0},\"342\":{\"beds\":7,\"baths\":5.0,\"size\":4190.0,\"size_units\":\"sqft\",\"lot_size\":4666.0,\"lot_size_units\":\"sqft\",\"zip_code\":98115,\"price\":1513000.0},\"343\":{\"beds\":2,\"baths\":2.0,\"size\":1170.0,\"size_units\":\"sqft\",\"lot_size\":991.0,\"lot_size_units\":\"sqft\",\"zip_code\":98103,\"price\":600000.0},\"344\":{\"beds\":3,\"baths\":1.0,\"size\":1935.0,\"size_units\":\"sqft\",\"lot_size\":3500.0,\"lot_size_units\":\"sqft\",\"zip_code\":98103,\"price\":895000.0},\"345\":{\"beds\":3,\"baths\":2.5,\"size\":1550.0,\"size_units\":\"sqft\",\"lot_size\":1132.0,\"lot_size_units\":\"sqft\",\"zip_code\":98122,\"price\":1090000.0},\"346\":{\"beds\":3,\"baths\":2.5,\"size\":1290.0,\"size_units\":\"sqft\",\"lot_size\":1474.0,\"lot_size_units\":\"sqft\",\"zip_code\":98108,\"price\":585000.0},\"347\":{\"beds\":2,\"baths\":2.0,\"size\":1202.0,\"size_units\":\"sqft\",\"lot_size\":null,\"lot_size_units\":null,\"zip_code\":98109,\"price\":790000.0},\"348\":{\"beds\":3,\"baths\":2.5,\"size\":2420.0,\"size_units\":\"sqft\",\"lot_size\":4500.0,\"lot_size_units\":\"sqft\",\"zip_code\":98103,\"price\":1048000.0},\"349\":{\"beds\":4,\"baths\":4.5,\"size\":2190.0,\"size_units\":\"sqft\",\"lot_size\":4265.0,\"lot_size_units\":\"sqft\",\"zip_code\":98122,\"price\":1499950.0},\"350\":{\"beds\":3,\"baths\":2.0,\"size\":1850.0,\"size_units\":\"sqft\",\"lot_size\":4050.0,\"lot_size_units\":\"sqft\",\"zip_code\":98178,\"price\":627000.0},\"351\":{\"beds\":2,\"baths\":1.0,\"size\":970.0,\"size_units\":\"sqft\",\"lot_size\":null,\"lot_size_units\":null,\"zip_code\":98125,\"price\":397500.0},\"352\":{\"beds\":2,\"baths\":1.5,\"size\":918.0,\"size_units\":\"sqft\",\"lot_size\":null,\"lot_size_units\":null,\"zip_code\":98104,\"price\":550000.0},\"353\":{\"beds\":2,\"baths\":2.0,\"size\":1080.0,\"size_units\":\"sqft\",\"lot_size\":831.0,\"lot_size_units\":\"sqft\",\"zip_code\":98106,\"price\":499950.0},\"354\":{\"beds\":1,\"baths\":1.0,\"size\":831.0,\"size_units\":\"sqft\",\"lot_size\":null,\"lot_size_units\":null,\"zip_code\":98115,\"price\":415000.0},\"355\":{\"beds\":4,\"baths\":2.0,\"size\":2140.0,\"size_units\":\"sqft\",\"lot_size\":6180.0,\"lot_size_units\":\"sqft\",\"zip_code\":98118,\"price\":825000.0},\"356\":{\"beds\":3,\"baths\":2.0,\"size\":1481.0,\"size_units\":\"sqft\",\"lot_size\":1316.0,\"lot_size_units\":\"sqft\",\"zip_code\":98103,\"price\":1040000.0},\"357\":{\"beds\":4,\"baths\":4.0,\"size\":2630.0,\"size_units\":\"sqft\",\"lot_size\":3600.0,\"lot_size_units\":\"sqft\",\"zip_code\":98112,\"price\":2600000.0},\"358\":{\"beds\":4,\"baths\":2.0,\"size\":1920.0,\"size_units\":\"sqft\",\"lot_size\":5500.0,\"lot_size_units\":\"sqft\",\"zip_code\":98118,\"price\":670000.0},\"359\":{\"beds\":3,\"baths\":2.5,\"size\":1870.0,\"size_units\":\"sqft\",\"lot_size\":5110.0,\"lot_size_units\":\"sqft\",\"zip_code\":98125,\"price\":700000.0},\"360\":{\"beds\":5,\"baths\":2.0,\"size\":2260.0,\"size_units\":\"sqft\",\"lot_size\":0.34,\"lot_size_units\":\"acre\",\"zip_code\":98168,\"price\":530000.0},\"361\":{\"beds\":3,\"baths\":1.0,\"size\":1210.0,\"size_units\":\"sqft\",\"lot_size\":0.25,\"lot_size_units\":\"acre\",\"zip_code\":98106,\"price\":615000.0},\"362\":{\"beds\":3,\"baths\":1.0,\"size\":3000.0,\"size_units\":\"sqft\",\"lot_size\":4485.0,\"lot_size_units\":\"sqft\",\"zip_code\":98108,\"price\":706000.0},\"363\":{\"beds\":3,\"baths\":3.0,\"size\":1560.0,\"size_units\":\"sqft\",\"lot_size\":5760.0,\"lot_size_units\":\"sqft\",\"zip_code\":98106,\"price\":699950.0},\"364\":{\"beds\":1,\"baths\":1.0,\"size\":684.0,\"size_units\":\"sqft\",\"lot_size\":null,\"lot_size_units\":null,\"zip_code\":98121,\"price\":693000.0},\"365\":{\"beds\":1,\"baths\":1.0,\"size\":565.0,\"size_units\":\"sqft\",\"lot_size\":null,\"lot_size_units\":null,\"zip_code\":98115,\"price\":297500.0},\"366\":{\"beds\":2,\"baths\":2.0,\"size\":2880.0,\"size_units\":\"sqft\",\"lot_size\":5700.0,\"lot_size_units\":\"sqft\",\"zip_code\":98103,\"price\":1095000.0},\"367\":{\"beds\":3,\"baths\":1.0,\"size\":1240.0,\"size_units\":\"sqft\",\"lot_size\":5931.0,\"lot_size_units\":\"sqft\",\"zip_code\":98125,\"price\":675000.0},\"368\":{\"beds\":3,\"baths\":2.5,\"size\":1468.0,\"size_units\":\"sqft\",\"lot_size\":1054.0,\"lot_size_units\":\"sqft\",\"zip_code\":98103,\"price\":809950.0},\"369\":{\"beds\":4,\"baths\":3.5,\"size\":2500.0,\"size_units\":\"sqft\",\"lot_size\":5000.0,\"lot_size_units\":\"sqft\",\"zip_code\":98103,\"price\":1104000.0},\"370\":{\"beds\":3,\"baths\":3.0,\"size\":2360.0,\"size_units\":\"sqft\",\"lot_size\":8480.0,\"lot_size_units\":\"sqft\",\"zip_code\":98115,\"price\":1210000.0},\"371\":{\"beds\":6,\"baths\":4.5,\"size\":3480.0,\"size_units\":\"sqft\",\"lot_size\":5000.0,\"lot_size_units\":\"sqft\",\"zip_code\":98117,\"price\":2550000.0},\"372\":{\"beds\":4,\"baths\":3.5,\"size\":2199.0,\"size_units\":\"sqft\",\"lot_size\":null,\"lot_size_units\":null,\"zip_code\":98117,\"price\":1560000.0},\"373\":{\"beds\":3,\"baths\":2.0,\"size\":1730.0,\"size_units\":\"sqft\",\"lot_size\":7500.0,\"lot_size_units\":\"sqft\",\"zip_code\":98168,\"price\":386000.0},\"374\":{\"beds\":3,\"baths\":1.5,\"size\":2516.0,\"size_units\":\"sqft\",\"lot_size\":5960.0,\"lot_size_units\":\"sqft\",\"zip_code\":98119,\"price\":1020000.0},\"375\":{\"beds\":4,\"baths\":4.0,\"size\":4935.0,\"size_units\":\"sqft\",\"lot_size\":9600.0,\"lot_size_units\":\"sqft\",\"zip_code\":98125,\"price\":1495000.0},\"376\":{\"beds\":2,\"baths\":2.0,\"size\":1168.0,\"size_units\":\"sqft\",\"lot_size\":1189.0,\"lot_size_units\":\"sqft\",\"zip_code\":98144,\"price\":639999.0},\"377\":{\"beds\":3,\"baths\":2.5,\"size\":1604.0,\"size_units\":\"sqft\",\"lot_size\":1120.0,\"lot_size_units\":\"sqft\",\"zip_code\":98144,\"price\":769999.0},\"378\":{\"beds\":3,\"baths\":2.5,\"size\":1786.0,\"size_units\":\"sqft\",\"lot_size\":960.0,\"lot_size_units\":\"sqft\",\"zip_code\":98103,\"price\":970000.0},\"379\":{\"beds\":2,\"baths\":2.0,\"size\":1174.0,\"size_units\":\"sqft\",\"lot_size\":800.0,\"lot_size_units\":\"sqft\",\"zip_code\":98109,\"price\":785000.0},\"380\":{\"beds\":2,\"baths\":1.0,\"size\":1180.0,\"size_units\":\"sqft\",\"lot_size\":null,\"lot_size_units\":null,\"zip_code\":98122,\"price\":934050.0},\"381\":{\"beds\":2,\"baths\":2.0,\"size\":770.0,\"size_units\":\"sqft\",\"lot_size\":6300.0,\"lot_size_units\":\"sqft\",\"zip_code\":98103,\"price\":170000.0},\"382\":{\"beds\":4,\"baths\":2.5,\"size\":2410.0,\"size_units\":\"sqft\",\"lot_size\":6000.0,\"lot_size_units\":\"sqft\",\"zip_code\":98105,\"price\":2000000.0},\"383\":{\"beds\":3,\"baths\":1.5,\"size\":1920.0,\"size_units\":\"sqft\",\"lot_size\":4000.0,\"lot_size_units\":\"sqft\",\"zip_code\":98199,\"price\":975000.0},\"384\":{\"beds\":4,\"baths\":2.5,\"size\":2610.0,\"size_units\":\"sqft\",\"lot_size\":6109.0,\"lot_size_units\":\"sqft\",\"zip_code\":98117,\"price\":1160000.0},\"385\":{\"beds\":4,\"baths\":2.5,\"size\":2680.0,\"size_units\":\"sqft\",\"lot_size\":6240.0,\"lot_size_units\":\"sqft\",\"zip_code\":98199,\"price\":1800000.0},\"386\":{\"beds\":2,\"baths\":2.0,\"size\":1710.0,\"size_units\":\"sqft\",\"lot_size\":7920.0,\"lot_size_units\":\"sqft\",\"zip_code\":98125,\"price\":710000.0},\"387\":{\"beds\":4,\"baths\":3.0,\"size\":2240.0,\"size_units\":\"sqft\",\"lot_size\":7700.0,\"lot_size_units\":\"sqft\",\"zip_code\":98178,\"price\":840000.0},\"388\":{\"beds\":4,\"baths\":3.5,\"size\":3500.0,\"size_units\":\"sqft\",\"lot_size\":5350.0,\"lot_size_units\":\"sqft\",\"zip_code\":98199,\"price\":2000000.0},\"389\":{\"beds\":3,\"baths\":2.0,\"size\":1703.0,\"size_units\":\"sqft\",\"lot_size\":1247.0,\"lot_size_units\":\"sqft\",\"zip_code\":98117,\"price\":943000.0},\"390\":{\"beds\":3,\"baths\":2.0,\"size\":2600.0,\"size_units\":\"sqft\",\"lot_size\":8160.0,\"lot_size_units\":\"sqft\",\"zip_code\":98177,\"price\":1195000.0},\"391\":{\"beds\":3,\"baths\":2.0,\"size\":1200.0,\"size_units\":\"sqft\",\"lot_size\":3500.0,\"lot_size_units\":\"sqft\",\"zip_code\":98107,\"price\":685000.0},\"392\":{\"beds\":1,\"baths\":1.0,\"size\":696.0,\"size_units\":\"sqft\",\"lot_size\":0.75,\"lot_size_units\":\"acre\",\"zip_code\":98122,\"price\":449000.0},\"393\":{\"beds\":3,\"baths\":1.0,\"size\":840.0,\"size_units\":\"sqft\",\"lot_size\":6750.0,\"lot_size_units\":\"sqft\",\"zip_code\":98125,\"price\":610000.0},\"394\":{\"beds\":4,\"baths\":2.0,\"size\":2570.0,\"size_units\":\"sqft\",\"lot_size\":3840.0,\"lot_size_units\":\"sqft\",\"zip_code\":98119,\"price\":1550000.0},\"395\":{\"beds\":4,\"baths\":3.0,\"size\":2480.0,\"size_units\":\"sqft\",\"lot_size\":4500.0,\"lot_size_units\":\"sqft\",\"zip_code\":98117,\"price\":1270000.0},\"396\":{\"beds\":4,\"baths\":3.5,\"size\":2054.0,\"size_units\":\"sqft\",\"lot_size\":2050.0,\"lot_size_units\":\"sqft\",\"zip_code\":98103,\"price\":1165000.0},\"397\":{\"beds\":4,\"baths\":2.5,\"size\":1830.0,\"size_units\":\"sqft\",\"lot_size\":5162.0,\"lot_size_units\":\"sqft\",\"zip_code\":98125,\"price\":1050000.0},\"398\":{\"beds\":5,\"baths\":3.5,\"size\":2750.0,\"size_units\":\"sqft\",\"lot_size\":4200.0,\"lot_size_units\":\"sqft\",\"zip_code\":98112,\"price\":2450000.0},\"399\":{\"beds\":3,\"baths\":1.0,\"size\":1200.0,\"size_units\":\"sqft\",\"lot_size\":8869.0,\"lot_size_units\":\"sqft\",\"zip_code\":98125,\"price\":2100000.0},\"400\":{\"beds\":4,\"baths\":3.0,\"size\":2280.0,\"size_units\":\"sqft\",\"lot_size\":5000.0,\"lot_size_units\":\"sqft\",\"zip_code\":98117,\"price\":1275000.0},\"401\":{\"beds\":2,\"baths\":3.0,\"size\":1660.0,\"size_units\":\"sqft\",\"lot_size\":3094.0,\"lot_size_units\":\"sqft\",\"zip_code\":98112,\"price\":1300000.0},\"402\":{\"beds\":4,\"baths\":2.5,\"size\":3470.0,\"size_units\":\"sqft\",\"lot_size\":4000.0,\"lot_size_units\":\"sqft\",\"zip_code\":98102,\"price\":1100000.0},\"403\":{\"beds\":2,\"baths\":2.0,\"size\":867.0,\"size_units\":\"sqft\",\"lot_size\":1808.0,\"lot_size_units\":\"sqft\",\"zip_code\":98115,\"price\":689000.0},\"404\":{\"beds\":1,\"baths\":1.5,\"size\":801.0,\"size_units\":\"sqft\",\"lot_size\":null,\"lot_size_units\":null,\"zip_code\":98109,\"price\":500000.0},\"405\":{\"beds\":1,\"baths\":1.0,\"size\":501.0,\"size_units\":\"sqft\",\"lot_size\":null,\"lot_size_units\":null,\"zip_code\":98122,\"price\":386000.0},\"406\":{\"beds\":4,\"baths\":3.5,\"size\":2840.0,\"size_units\":\"sqft\",\"lot_size\":2957.0,\"lot_size_units\":\"sqft\",\"zip_code\":98178,\"price\":720000.0},\"407\":{\"beds\":3,\"baths\":3.0,\"size\":2010.0,\"size_units\":\"sqft\",\"lot_size\":7104.0,\"lot_size_units\":\"sqft\",\"zip_code\":98115,\"price\":925000.0},\"408\":{\"beds\":2,\"baths\":2.0,\"size\":1252.0,\"size_units\":\"sqft\",\"lot_size\":null,\"lot_size_units\":null,\"zip_code\":98121,\"price\":1525000.0},\"409\":{\"beds\":1,\"baths\":1.0,\"size\":721.0,\"size_units\":\"sqft\",\"lot_size\":null,\"lot_size_units\":null,\"zip_code\":98101,\"price\":389000.0},\"410\":{\"beds\":3,\"baths\":2.0,\"size\":1460.0,\"size_units\":\"sqft\",\"lot_size\":0.3,\"lot_size_units\":\"acre\",\"zip_code\":98115,\"price\":731250.0},\"411\":{\"beds\":3,\"baths\":2.5,\"size\":1107.0,\"size_units\":\"sqft\",\"lot_size\":4120.0,\"lot_size_units\":\"sqft\",\"zip_code\":98103,\"price\":877500.0},\"412\":{\"beds\":4,\"baths\":1.0,\"size\":1400.0,\"size_units\":\"sqft\",\"lot_size\":7100.0,\"lot_size_units\":\"sqft\",\"zip_code\":98117,\"price\":1025000.0},\"413\":{\"beds\":2,\"baths\":1.0,\"size\":1437.0,\"size_units\":\"sqft\",\"lot_size\":3096.0,\"lot_size_units\":\"sqft\",\"zip_code\":98125,\"price\":700000.0},\"414\":{\"beds\":3,\"baths\":3.0,\"size\":3004.0,\"size_units\":\"sqft\",\"lot_size\":5123.0,\"lot_size_units\":\"sqft\",\"zip_code\":98112,\"price\":1450000.0},\"415\":{\"beds\":1,\"baths\":1.0,\"size\":700.0,\"size_units\":\"sqft\",\"lot_size\":null,\"lot_size_units\":null,\"zip_code\":98102,\"price\":410000.0},\"416\":{\"beds\":2,\"baths\":2.0,\"size\":1122.0,\"size_units\":\"sqft\",\"lot_size\":null,\"lot_size_units\":null,\"zip_code\":98119,\"price\":565000.0},\"417\":{\"beds\":4,\"baths\":1.5,\"size\":2344.0,\"size_units\":\"sqft\",\"lot_size\":4000.0,\"lot_size_units\":\"sqft\",\"zip_code\":98109,\"price\":1222000.0},\"418\":{\"beds\":4,\"baths\":3.0,\"size\":2960.0,\"size_units\":\"sqft\",\"lot_size\":6000.0,\"lot_size_units\":\"sqft\",\"zip_code\":98108,\"price\":970000.0},\"419\":{\"beds\":2,\"baths\":2.0,\"size\":1063.0,\"size_units\":\"sqft\",\"lot_size\":null,\"lot_size_units\":null,\"zip_code\":98109,\"price\":755000.0},\"420\":{\"beds\":1,\"baths\":1.0,\"size\":674.0,\"size_units\":\"sqft\",\"lot_size\":1.14,\"lot_size_units\":\"acre\",\"zip_code\":98122,\"price\":465000.0},\"421\":{\"beds\":4,\"baths\":3.5,\"size\":2510.0,\"size_units\":\"sqft\",\"lot_size\":1.0,\"lot_size_units\":\"acre\",\"zip_code\":98103,\"price\":1625000.0},\"422\":{\"beds\":2,\"baths\":1.0,\"size\":680.0,\"size_units\":\"sqft\",\"lot_size\":0.31,\"lot_size_units\":\"acre\",\"zip_code\":98106,\"price\":510000.0},\"423\":{\"beds\":2,\"baths\":2.0,\"size\":1450.0,\"size_units\":\"sqft\",\"lot_size\":2550.0,\"lot_size_units\":\"sqft\",\"zip_code\":98117,\"price\":1050000.0},\"424\":{\"beds\":1,\"baths\":3.0,\"size\":934.0,\"size_units\":\"sqft\",\"lot_size\":0.32,\"lot_size_units\":\"acre\",\"zip_code\":98119,\"price\":525000.0},\"425\":{\"beds\":5,\"baths\":3.0,\"size\":2400.0,\"size_units\":\"sqft\",\"lot_size\":5029.0,\"lot_size_units\":\"sqft\",\"zip_code\":98118,\"price\":745000.0},\"426\":{\"beds\":3,\"baths\":2.5,\"size\":2740.0,\"size_units\":\"sqft\",\"lot_size\":4000.0,\"lot_size_units\":\"sqft\",\"zip_code\":98108,\"price\":489000.0},\"427\":{\"beds\":5,\"baths\":2.0,\"size\":2000.0,\"size_units\":\"sqft\",\"lot_size\":4625.0,\"lot_size_units\":\"sqft\",\"zip_code\":98105,\"price\":1075000.0},\"428\":{\"beds\":2,\"baths\":2.0,\"size\":1799.0,\"size_units\":\"sqft\",\"lot_size\":4950.0,\"lot_size_units\":\"sqft\",\"zip_code\":98117,\"price\":755000.0},\"429\":{\"beds\":3,\"baths\":2.0,\"size\":1740.0,\"size_units\":\"sqft\",\"lot_size\":6250.0,\"lot_size_units\":\"sqft\",\"zip_code\":98199,\"price\":1425000.0},\"430\":{\"beds\":3,\"baths\":1.5,\"size\":2370.0,\"size_units\":\"sqft\",\"lot_size\":4080.0,\"lot_size_units\":\"sqft\",\"zip_code\":98115,\"price\":927000.0},\"431\":{\"beds\":4,\"baths\":3.5,\"size\":3780.0,\"size_units\":\"sqft\",\"lot_size\":4360.0,\"lot_size_units\":\"sqft\",\"zip_code\":98115,\"price\":1875000.0},\"432\":{\"beds\":2,\"baths\":1.5,\"size\":755.0,\"size_units\":\"sqft\",\"lot_size\":null,\"lot_size_units\":null,\"zip_code\":98101,\"price\":500000.0},\"433\":{\"beds\":1,\"baths\":1.0,\"size\":764.0,\"size_units\":\"sqft\",\"lot_size\":null,\"lot_size_units\":null,\"zip_code\":98105,\"price\":510000.0},\"434\":{\"beds\":3,\"baths\":3.0,\"size\":2910.0,\"size_units\":\"sqft\",\"lot_size\":9612.0,\"lot_size_units\":\"sqft\",\"zip_code\":98125,\"price\":1249900.0},\"435\":{\"beds\":3,\"baths\":3.0,\"size\":1419.0,\"size_units\":\"sqft\",\"lot_size\":951.0,\"lot_size_units\":\"sqft\",\"zip_code\":98122,\"price\":861955.0},\"436\":{\"beds\":4,\"baths\":2.0,\"size\":2800.0,\"size_units\":\"sqft\",\"lot_size\":0.82,\"lot_size_units\":\"acre\",\"zip_code\":98178,\"price\":675000.0},\"437\":{\"beds\":3,\"baths\":1.5,\"size\":1510.0,\"size_units\":\"sqft\",\"lot_size\":8138.0,\"lot_size_units\":\"sqft\",\"zip_code\":98133,\"price\":725000.0},\"438\":{\"beds\":3,\"baths\":2.5,\"size\":1520.0,\"size_units\":\"sqft\",\"lot_size\":1246.0,\"lot_size_units\":\"sqft\",\"zip_code\":98107,\"price\":975000.0},\"439\":{\"beds\":3,\"baths\":2.5,\"size\":1570.0,\"size_units\":\"sqft\",\"lot_size\":980.0,\"lot_size_units\":\"sqft\",\"zip_code\":98102,\"price\":955000.0},\"440\":{\"beds\":2,\"baths\":2.0,\"size\":1028.0,\"size_units\":\"sqft\",\"lot_size\":1650.0,\"lot_size_units\":\"sqft\",\"zip_code\":98103,\"price\":700000.0},\"441\":{\"beds\":3,\"baths\":2.0,\"size\":1660.0,\"size_units\":\"sqft\",\"lot_size\":5120.0,\"lot_size_units\":\"sqft\",\"zip_code\":98106,\"price\":805000.0},\"442\":{\"beds\":5,\"baths\":3.5,\"size\":3153.0,\"size_units\":\"sqft\",\"lot_size\":4837.0,\"lot_size_units\":\"sqft\",\"zip_code\":98177,\"price\":2266000.0},\"443\":{\"beds\":2,\"baths\":1.0,\"size\":875.0,\"size_units\":\"sqft\",\"lot_size\":3710.0,\"lot_size_units\":\"sqft\",\"zip_code\":98117,\"price\":750000.0},\"444\":{\"beds\":3,\"baths\":2.5,\"size\":1800.0,\"size_units\":\"sqft\",\"lot_size\":2516.0,\"lot_size_units\":\"sqft\",\"zip_code\":98108,\"price\":655000.0},\"445\":{\"beds\":3,\"baths\":2.5,\"size\":1510.0,\"size_units\":\"sqft\",\"lot_size\":3576.0,\"lot_size_units\":\"sqft\",\"zip_code\":98136,\"price\":880000.0},\"446\":{\"beds\":2,\"baths\":2.0,\"size\":1220.0,\"size_units\":\"sqft\",\"lot_size\":8060.0,\"lot_size_units\":\"sqft\",\"zip_code\":98178,\"price\":585000.0},\"447\":{\"beds\":3,\"baths\":2.5,\"size\":1630.0,\"size_units\":\"sqft\",\"lot_size\":4850.0,\"lot_size_units\":\"sqft\",\"zip_code\":98107,\"price\":1060000.0},\"448\":{\"beds\":3,\"baths\":3.5,\"size\":1319.0,\"size_units\":\"sqft\",\"lot_size\":1149.0,\"lot_size_units\":\"sqft\",\"zip_code\":98119,\"price\":875000.0},\"449\":{\"beds\":3,\"baths\":2.5,\"size\":2695.0,\"size_units\":\"sqft\",\"lot_size\":6324.0,\"lot_size_units\":\"sqft\",\"zip_code\":98115,\"price\":1345000.0},\"450\":{\"beds\":3,\"baths\":4.0,\"size\":3410.0,\"size_units\":\"sqft\",\"lot_size\":0.26,\"lot_size_units\":\"acre\",\"zip_code\":98125,\"price\":1702619.0},\"451\":{\"beds\":2,\"baths\":2.5,\"size\":2094.0,\"size_units\":\"sqft\",\"lot_size\":4800.0,\"lot_size_units\":\"sqft\",\"zip_code\":98102,\"price\":1500000.0},\"452\":{\"beds\":4,\"baths\":3.5,\"size\":2380.0,\"size_units\":\"sqft\",\"lot_size\":4000.0,\"lot_size_units\":\"sqft\",\"zip_code\":98106,\"price\":830000.0},\"453\":{\"beds\":3,\"baths\":3.5,\"size\":2938.0,\"size_units\":\"sqft\",\"lot_size\":9224.0,\"lot_size_units\":\"sqft\",\"zip_code\":98136,\"price\":1350000.0},\"454\":{\"beds\":2,\"baths\":1.5,\"size\":1293.0,\"size_units\":\"sqft\",\"lot_size\":1070.0,\"lot_size_units\":\"sqft\",\"zip_code\":98115,\"price\":779950.0},\"455\":{\"beds\":3,\"baths\":2.0,\"size\":2730.0,\"size_units\":\"sqft\",\"lot_size\":7200.0,\"lot_size_units\":\"sqft\",\"zip_code\":98117,\"price\":1150000.0},\"456\":{\"beds\":2,\"baths\":1.0,\"size\":1120.0,\"size_units\":\"sqft\",\"lot_size\":1.0,\"lot_size_units\":\"acre\",\"zip_code\":98102,\"price\":1350000.0},\"457\":{\"beds\":3,\"baths\":1.0,\"size\":1280.0,\"size_units\":\"sqft\",\"lot_size\":5000.0,\"lot_size_units\":\"sqft\",\"zip_code\":98199,\"price\":875000.0},\"458\":{\"beds\":3,\"baths\":2.5,\"size\":2350.0,\"size_units\":\"sqft\",\"lot_size\":6180.0,\"lot_size_units\":\"sqft\",\"zip_code\":98115,\"price\":1625000.0},\"459\":{\"beds\":1,\"baths\":1.0,\"size\":692.0,\"size_units\":\"sqft\",\"lot_size\":null,\"lot_size_units\":null,\"zip_code\":98122,\"price\":499950.0},\"460\":{\"beds\":3,\"baths\":1.5,\"size\":1350.0,\"size_units\":\"sqft\",\"lot_size\":5750.0,\"lot_size_units\":\"sqft\",\"zip_code\":98126,\"price\":665000.0},\"461\":{\"beds\":4,\"baths\":4.0,\"size\":2895.0,\"size_units\":\"sqft\",\"lot_size\":2000.0,\"lot_size_units\":\"sqft\",\"zip_code\":98119,\"price\":2206500.0},\"462\":{\"beds\":4,\"baths\":3.5,\"size\":4420.0,\"size_units\":\"sqft\",\"lot_size\":4188.0,\"lot_size_units\":\"sqft\",\"zip_code\":98199,\"price\":2350000.0},\"463\":{\"beds\":4,\"baths\":2.0,\"size\":1740.0,\"size_units\":\"sqft\",\"lot_size\":3605.0,\"lot_size_units\":\"sqft\",\"zip_code\":98103,\"price\":950000.0},\"464\":{\"beds\":1,\"baths\":1.0,\"size\":547.0,\"size_units\":\"sqft\",\"lot_size\":null,\"lot_size_units\":null,\"zip_code\":98125,\"price\":264000.0},\"465\":{\"beds\":3,\"baths\":2.0,\"size\":1200.0,\"size_units\":\"sqft\",\"lot_size\":5700.0,\"lot_size_units\":\"sqft\",\"zip_code\":98178,\"price\":624950.0},\"466\":{\"beds\":3,\"baths\":2.0,\"size\":1410.0,\"size_units\":\"sqft\",\"lot_size\":4387.0,\"lot_size_units\":\"sqft\",\"zip_code\":98115,\"price\":1035000.0},\"467\":{\"beds\":3,\"baths\":1.0,\"size\":1290.0,\"size_units\":\"sqft\",\"lot_size\":4600.0,\"lot_size_units\":\"sqft\",\"zip_code\":98178,\"price\":412000.0},\"468\":{\"beds\":5,\"baths\":4.5,\"size\":2920.0,\"size_units\":\"sqft\",\"lot_size\":5026.0,\"lot_size_units\":\"sqft\",\"zip_code\":98106,\"price\":1000000.0},\"469\":{\"beds\":5,\"baths\":3.0,\"size\":2310.0,\"size_units\":\"sqft\",\"lot_size\":0.23,\"lot_size_units\":\"acre\",\"zip_code\":98118,\"price\":680000.0},\"470\":{\"beds\":3,\"baths\":2.5,\"size\":1810.0,\"size_units\":\"sqft\",\"lot_size\":9409.0,\"lot_size_units\":\"sqft\",\"zip_code\":98125,\"price\":899000.0},\"471\":{\"beds\":4,\"baths\":1.5,\"size\":1410.0,\"size_units\":\"sqft\",\"lot_size\":8453.0,\"lot_size_units\":\"sqft\",\"zip_code\":98133,\"price\":827500.0},\"472\":{\"beds\":3,\"baths\":2.0,\"size\":1800.0,\"size_units\":\"sqft\",\"lot_size\":7280.0,\"lot_size_units\":\"sqft\",\"zip_code\":98178,\"price\":575000.0},\"473\":{\"beds\":4,\"baths\":3.0,\"size\":2860.0,\"size_units\":\"sqft\",\"lot_size\":5000.0,\"lot_size_units\":\"sqft\",\"zip_code\":98117,\"price\":1165000.0},\"474\":{\"beds\":2,\"baths\":2.0,\"size\":2680.0,\"size_units\":\"sqft\",\"lot_size\":6097.0,\"lot_size_units\":\"sqft\",\"zip_code\":98126,\"price\":749950.0},\"475\":{\"beds\":4,\"baths\":2.0,\"size\":1860.0,\"size_units\":\"sqft\",\"lot_size\":5700.0,\"lot_size_units\":\"sqft\",\"zip_code\":98103,\"price\":1350000.0},\"476\":{\"beds\":3,\"baths\":2.0,\"size\":1340.0,\"size_units\":\"sqft\",\"lot_size\":6231.0,\"lot_size_units\":\"sqft\",\"zip_code\":98117,\"price\":985000.0},\"477\":{\"beds\":3,\"baths\":1.0,\"size\":1110.0,\"size_units\":\"sqft\",\"lot_size\":6350.0,\"lot_size_units\":\"sqft\",\"zip_code\":98117,\"price\":505000.0},\"478\":{\"beds\":4,\"baths\":3.0,\"size\":2527.0,\"size_units\":\"sqft\",\"lot_size\":4800.0,\"lot_size_units\":\"sqft\",\"zip_code\":98122,\"price\":1375000.0},\"479\":{\"beds\":2,\"baths\":2.5,\"size\":1057.0,\"size_units\":\"sqft\",\"lot_size\":8764.0,\"lot_size_units\":\"sqft\",\"zip_code\":98102,\"price\":650000.0},\"480\":{\"beds\":3,\"baths\":2.5,\"size\":1054.0,\"size_units\":\"sqft\",\"lot_size\":2246.0,\"lot_size_units\":\"sqft\",\"zip_code\":98115,\"price\":815000.0},\"481\":{\"beds\":4,\"baths\":6.5,\"size\":3400.0,\"size_units\":\"sqft\",\"lot_size\":6000.0,\"lot_size_units\":\"sqft\",\"zip_code\":98122,\"price\":1550000.0},\"482\":{\"beds\":4,\"baths\":3.0,\"size\":2290.0,\"size_units\":\"sqft\",\"lot_size\":0.42,\"lot_size_units\":\"acre\",\"zip_code\":98146,\"price\":685000.0},\"483\":{\"beds\":4,\"baths\":2.0,\"size\":2260.0,\"size_units\":\"sqft\",\"lot_size\":4200.0,\"lot_size_units\":\"sqft\",\"zip_code\":98106,\"price\":760000.0},\"484\":{\"beds\":3,\"baths\":3.0,\"size\":2480.0,\"size_units\":\"sqft\",\"lot_size\":0.27,\"lot_size_units\":\"acre\",\"zip_code\":98146,\"price\":1595000.0},\"485\":{\"beds\":3,\"baths\":1.0,\"size\":1240.0,\"size_units\":\"sqft\",\"lot_size\":7186.0,\"lot_size_units\":\"sqft\",\"zip_code\":98146,\"price\":220000.0},\"486\":{\"beds\":2,\"baths\":2.0,\"size\":1036.0,\"size_units\":\"sqft\",\"lot_size\":656.0,\"lot_size_units\":\"sqft\",\"zip_code\":98103,\"price\":799950.0},\"487\":{\"beds\":2,\"baths\":1.0,\"size\":1900.0,\"size_units\":\"sqft\",\"lot_size\":3600.0,\"lot_size_units\":\"sqft\",\"zip_code\":98119,\"price\":1015000.0},\"488\":{\"beds\":4,\"baths\":2.5,\"size\":1544.0,\"size_units\":\"sqft\",\"lot_size\":1561.0,\"lot_size_units\":\"sqft\",\"zip_code\":98117,\"price\":975000.0},\"489\":{\"beds\":2,\"baths\":1.0,\"size\":1160.0,\"size_units\":\"sqft\",\"lot_size\":6860.0,\"lot_size_units\":\"sqft\",\"zip_code\":98126,\"price\":525000.0},\"490\":{\"beds\":3,\"baths\":3.0,\"size\":1650.0,\"size_units\":\"sqft\",\"lot_size\":7883.0,\"lot_size_units\":\"sqft\",\"zip_code\":98178,\"price\":591995.0},\"491\":{\"beds\":1,\"baths\":1.0,\"size\":529.0,\"size_units\":\"sqft\",\"lot_size\":529.0,\"lot_size_units\":\"sqft\",\"zip_code\":98103,\"price\":367000.0},\"492\":{\"beds\":4,\"baths\":3.0,\"size\":2310.0,\"size_units\":\"sqft\",\"lot_size\":5120.0,\"lot_size_units\":\"sqft\",\"zip_code\":98136,\"price\":1100000.0},\"493\":{\"beds\":4,\"baths\":2.5,\"size\":2880.0,\"size_units\":\"sqft\",\"lot_size\":6210.0,\"lot_size_units\":\"sqft\",\"zip_code\":98115,\"price\":1900000.0},\"494\":{\"beds\":1,\"baths\":1.5,\"size\":540.0,\"size_units\":\"sqft\",\"lot_size\":6364.0,\"lot_size_units\":\"sqft\",\"zip_code\":98118,\"price\":750000.0},\"495\":{\"beds\":1,\"baths\":1.0,\"size\":645.0,\"size_units\":\"sqft\",\"lot_size\":null,\"lot_size_units\":null,\"zip_code\":98115,\"price\":515000.0},\"496\":{\"beds\":3,\"baths\":2.5,\"size\":2275.0,\"size_units\":\"sqft\",\"lot_size\":3606.0,\"lot_size_units\":\"sqft\",\"zip_code\":98122,\"price\":1528000.0},\"497\":{\"beds\":2,\"baths\":2.5,\"size\":1250.0,\"size_units\":\"sqft\",\"lot_size\":1000.0,\"lot_size_units\":\"sqft\",\"zip_code\":98107,\"price\":770000.0},\"498\":{\"beds\":5,\"baths\":3.5,\"size\":5420.0,\"size_units\":\"sqft\",\"lot_size\":0.36,\"lot_size_units\":\"acre\",\"zip_code\":98112,\"price\":4655625.0},\"499\":{\"beds\":2,\"baths\":1.5,\"size\":1088.0,\"size_units\":\"sqft\",\"lot_size\":1807.0,\"lot_size_units\":\"sqft\",\"zip_code\":98117,\"price\":628000.0},\"500\":{\"beds\":5,\"baths\":4.5,\"size\":5580.0,\"size_units\":\"sqft\",\"lot_size\":0.3,\"lot_size_units\":\"acre\",\"zip_code\":98146,\"price\":3800000.0},\"501\":{\"beds\":3,\"baths\":2.5,\"size\":1390.0,\"size_units\":\"sqft\",\"lot_size\":1570.0,\"lot_size_units\":\"sqft\",\"zip_code\":98126,\"price\":575000.0},\"502\":{\"beds\":3,\"baths\":2.5,\"size\":2950.0,\"size_units\":\"sqft\",\"lot_size\":0.47,\"lot_size_units\":\"acre\",\"zip_code\":98118,\"price\":3105000.0},\"503\":{\"beds\":5,\"baths\":5.0,\"size\":3010.0,\"size_units\":\"sqft\",\"lot_size\":4887.0,\"lot_size_units\":\"sqft\",\"zip_code\":98115,\"price\":1807000.0},\"504\":{\"beds\":3,\"baths\":2.0,\"size\":1301.0,\"size_units\":\"sqft\",\"lot_size\":3000.0,\"lot_size_units\":\"sqft\",\"zip_code\":98103,\"price\":895000.0}}'"
      ]
     },
     "execution_count": 104,
     "metadata": {},
     "output_type": "execute_result"
    }
   ],
   "source": [
    "df.to_json(orient=\"index\")"
   ]
  },
  {
   "cell_type": "code",
   "execution_count": 136,
   "id": "3ea95a75",
   "metadata": {},
   "outputs": [
    {
     "name": "stdout",
     "output_type": "stream",
     "text": [
      "[{\"employeename\": \"James\", \"email\": \"kcbhawana78@gmail.com\", \"job_profile\": [{\"title1\": \"Project Manager\", \"title2\": \"Developer\"}]}]\n"
     ]
    }
   ],
   "source": [
    "import json\n",
    "data=[{\n",
    "    \"employeename\":\"James\",\n",
    "    \"email\":\"kcbhawana78@gmail.com\",\n",
    "    \"job_profile\":[{\n",
    "        \"title1\":\"Project Manager\",\n",
    "        \"title2\":\"Developer\"\n",
    "}]\n",
    "}]\n",
    "data_str = json.dumps(data)\n",
    "print(data_str)"
   ]
  },
  {
   "cell_type": "code",
   "execution_count": 137,
   "id": "fc7b8219",
   "metadata": {},
   "outputs": [
    {
     "data": {
      "text/plain": [
       "list"
      ]
     },
     "execution_count": 137,
     "metadata": {},
     "output_type": "execute_result"
    }
   ],
   "source": [
    "type(data)"
   ]
  },
  {
   "cell_type": "code",
   "execution_count": 138,
   "id": "510624d3",
   "metadata": {},
   "outputs": [
    {
     "data": {
      "text/html": [
       "<div>\n",
       "<style scoped>\n",
       "    .dataframe tbody tr th:only-of-type {\n",
       "        vertical-align: middle;\n",
       "    }\n",
       "\n",
       "    .dataframe tbody tr th {\n",
       "        vertical-align: top;\n",
       "    }\n",
       "\n",
       "    .dataframe thead th {\n",
       "        text-align: right;\n",
       "    }\n",
       "</style>\n",
       "<table border=\"1\" class=\"dataframe\">\n",
       "  <thead>\n",
       "    <tr style=\"text-align: right;\">\n",
       "      <th></th>\n",
       "      <th>employeename</th>\n",
       "      <th>email</th>\n",
       "      <th>job_profile</th>\n",
       "    </tr>\n",
       "  </thead>\n",
       "  <tbody>\n",
       "    <tr>\n",
       "      <th>0</th>\n",
       "      <td>James</td>\n",
       "      <td>kcbhawana78@gmail.com</td>\n",
       "      <td>[{'title1': 'Project Manager', 'title2': 'Deve...</td>\n",
       "    </tr>\n",
       "  </tbody>\n",
       "</table>\n",
       "</div>"
      ],
      "text/plain": [
       "  employeename                  email  \\\n",
       "0        James  kcbhawana78@gmail.com   \n",
       "\n",
       "                                         job_profile  \n",
       "0  [{'title1': 'Project Manager', 'title2': 'Deve...  "
      ]
     },
     "execution_count": 138,
     "metadata": {},
     "output_type": "execute_result"
    }
   ],
   "source": [
    "pd.json_normalize(data)"
   ]
  },
  {
   "cell_type": "code",
   "execution_count": null,
   "id": "e2f5fa31",
   "metadata": {},
   "outputs": [],
   "source": []
  }
 ],
 "metadata": {
  "kernelspec": {
   "display_name": ".venv",
   "language": "python",
   "name": "python3"
  },
  "language_info": {
   "codemirror_mode": {
    "name": "ipython",
    "version": 3
   },
   "file_extension": ".py",
   "mimetype": "text/x-python",
   "name": "python",
   "nbconvert_exporter": "python",
   "pygments_lexer": "ipython3",
   "version": "3.9.6"
  }
 },
 "nbformat": 4,
 "nbformat_minor": 5
}
