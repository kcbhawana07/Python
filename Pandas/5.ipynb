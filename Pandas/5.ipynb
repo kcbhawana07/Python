{
 "cells": [
  {
   "cell_type": "code",
   "execution_count": 29,
   "id": "10511ed8",
   "metadata": {},
   "outputs": [
    {
     "name": "stdout",
     "output_type": "stream",
     "text": [
      "<Houses>\n",
      "    <House>\n",
      "        <ID>1</ID>\n",
      "        <Location>Pokhara</Location>\n",
      "        <Price>150000</Price>\n",
      "        <Bedrooms>3</Bedrooms>\n",
      "    </House>\n",
      "    <House>\n",
      "        <ID>2</ID>\n",
      "        <Location>Kathmandu</Location>\n",
      "        <Price>200000</Price>\n",
      "        <Bedrooms>4</Bedrooms>\n",
      "    </House>\n",
      "    <House>\n",
      "        <ID>3</ID>\n",
      "        <Location>Butwal</Location>\n",
      "        <Price>120000</Price>\n",
      "        <Bedrooms>2</Bedrooms>\n",
      "    </House>\n",
      "</House>\n"
     ]
    }
   ],
   "source": [
    "import pandas as pd\n",
    "\n",
    "with open(\"test.xml\", \"r\") as f:\n",
    "    print(f.read())\n"
   ]
  }
 ],
 "metadata": {
  "kernelspec": {
   "display_name": ".venv",
   "language": "python",
   "name": "python3"
  },
  "language_info": {
   "codemirror_mode": {
    "name": "ipython",
    "version": 3
   },
   "file_extension": ".py",
   "mimetype": "text/x-python",
   "name": "python",
   "nbconvert_exporter": "python",
   "pygments_lexer": "ipython3",
   "version": "3.9.6"
  }
 },
 "nbformat": 4,
 "nbformat_minor": 5
}
